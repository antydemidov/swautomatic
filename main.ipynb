{
 "cells": [
  {
   "cell_type": "code",
   "execution_count": 1,
   "metadata": {},
   "outputs": [],
   "source": [
    "import json\n",
    "import os\n",
    "import re\n",
    "from datetime import datetime\n",
    "from typing import Literal\n",
    "from zipfile import ZipFile\n",
    "\n",
    "import requests as rq\n",
    "from bs4 import BeautifulSoup as bs\n",
    "from decouple import config\n",
    "\n",
    "# Carefully! There are handmade modules.\n",
    "from connection import Connection\n",
    "from results import CommonResult\n",
    "from settings import SWASettings\n",
    "from SWA_api import SWAObject, Asset, dAsset\n",
    "\n",
    "settings = SWASettings().load().validate()\n",
    "db = Connection(settings.database_name)\n",
    "tags_coll, assets_coll = db.get_coll('tags'), db.get_coll('assets')"
   ]
  },
  {
   "cell_type": "code",
   "execution_count": 24,
   "metadata": {},
   "outputs": [],
   "source": [
    "from bson import DBRef"
   ]
  },
  {
   "cell_type": "code",
   "execution_count": 26,
   "metadata": {},
   "outputs": [],
   "source": [
    "ref = DBRef(tags_coll.name, 1, db.db_name)"
   ]
  },
  {
   "cell_type": "code",
   "execution_count": 2,
   "metadata": {},
   "outputs": [],
   "source": [
    "data = assets_coll.find_one({})\n",
    "d_asset = dAsset(**data)"
   ]
  },
  {
   "cell_type": "code",
   "execution_count": 46,
   "metadata": {},
   "outputs": [
    {
     "data": {
      "text/plain": [
       "{'_id': ObjectId('638c9747bebe65cbc86bc5cc'),\n",
       " 'steamid': 623936101,\n",
       " 'name': '(G) The Court Building',\n",
       " 'tags': [<SWA_api.dTag at 0x272dabcc9d0>, <SWA_api.dTag at 0x272db48cb90>],\n",
       " 'preview_path': 'previews/623936101.png',\n",
       " 'path': 'assets/623936101',\n",
       " 'is_installed': True,\n",
       " 'time_local': None,\n",
       " 'file_size': 5668633,\n",
       " 'time_created': datetime.datetime(2016, 2, 14, 12, 25, 56),\n",
       " 'time_updated': datetime.datetime(2020, 11, 9, 17, 41, 28),\n",
       " 'author': dAuthor(steamID64=76561198081345816, steamID='Prosper', avatarIcon='https://avatars.akamai.steamstatic.com/e2c42d5f49d97529777558703d18428e7e6d80d6.jpg', avatarMedium='https://avatars.akamai.steamstatic.com/e2c42d5f49d97529777558703d18428e7e6d80d6_medium.jpg', avatarFull='https://avatars.akamai.steamstatic.com/e2c42d5f49d97529777558703d18428e7e6d80d6_full.jpg', customURL='prosper_merime'),\n",
       " 'need_update': False,\n",
       " 'preview_url': <SWA_api.dPreview at 0x272dabccc50>}"
      ]
     },
     "execution_count": 46,
     "metadata": {},
     "output_type": "execute_result"
    }
   ],
   "source": [
    "d_asset.to_dict"
   ]
  },
  {
   "cell_type": "code",
   "execution_count": 3,
   "metadata": {},
   "outputs": [
    {
     "data": {
      "text/plain": [
       "{'_id': ObjectId('638c9747bebe65cbc86bc5cc'),\n",
       " 'steamid': 623936101,\n",
       " 'name': '(G) The Court Building',\n",
       " 'tags': [{'_id': 1, 'tag': 'Building'}, {'_id': 39, 'tag': 'Office'}],\n",
       " 'preview_path': 'previews/623936101.png',\n",
       " 'path': 'assets/623936101',\n",
       " 'is_installed': True,\n",
       " 'time_local': None,\n",
       " 'file_size': 5668633,\n",
       " 'time_created': datetime.datetime(2016, 2, 14, 12, 25, 56),\n",
       " 'time_updated': datetime.datetime(2020, 11, 9, 17, 41, 28),\n",
       " 'author': {'steamID64': 76561198081345816,\n",
       "  'steamID': 'Prosper',\n",
       "  'avatarIcon': 'https://avatars.akamai.steamstatic.com/e2c42d5f49d97529777558703d18428e7e6d80d6.jpg',\n",
       "  'avatarMedium': 'https://avatars.akamai.steamstatic.com/e2c42d5f49d97529777558703d18428e7e6d80d6_medium.jpg',\n",
       "  'avatarFull': 'https://avatars.akamai.steamstatic.com/e2c42d5f49d97529777558703d18428e7e6d80d6_full.jpg',\n",
       "  'customURL': 'prosper_merime'},\n",
       " 'need_update': False,\n",
       " 'preview_url': {'asset_id': 623936101,\n",
       "  'url': 'https://steamuserimages-a.akamaihd.net/ugc/1690500403331220419/A2C9F12D4B8378DA8E818420ACD11F033D8D3E42/',\n",
       "  'path': 'previews\\\\623936101.png'}}"
      ]
     },
     "execution_count": 3,
     "metadata": {},
     "output_type": "execute_result"
    }
   ],
   "source": [
    "d_asset.to_dict()"
   ]
  },
  {
   "cell_type": "code",
   "execution_count": 2,
   "metadata": {},
   "outputs": [],
   "source": [
    "ids = SWAObject().get_ids_from_db()"
   ]
  },
  {
   "cell_type": "code",
   "execution_count": 5,
   "metadata": {},
   "outputs": [],
   "source": [
    "tags_coll = db.db.get_collection('tags')"
   ]
  },
  {
   "cell_type": "code",
   "execution_count": 32,
   "metadata": {},
   "outputs": [
    {
     "data": {
      "text/plain": [
       "{'HOST': 'localhost',\n",
       " 'PORT': '27017',\n",
       " 'USER': 'antydemidov',\n",
       " 'PASSWORD': '5Tv&5q9Gf!@4$S',\n",
       " 'authmechanism': 'DEFAULT',\n",
       " 'authsource': 'admin',\n",
       " 'common_path': 'E:/Games/Cities Skylines/Files',\n",
       " 'appid': 255710,\n",
       " 'app_path': 'e:\\\\CODE\\\\Steam Workshop Automatic',\n",
       " 'database_name': 'CSws',\n",
       " 'user_url_profiles': 'https://steamcommunity.com/profiles/',\n",
       " 'user_url_id': 'https://steamcommunity.com/id/',\n",
       " 'asset_url': 'https://steamcommunity.com/sharedfiles/filedetails/',\n",
       " 'user_favs_url': 'https://steamcommunity.com/id/antydemidov/myworkshopfiles',\n",
       " 'links_file_path': 'E:/Games/Cities Skylines/Files/links.txt',\n",
       " 'previews_path': 'previews',\n",
       " 'steam_api_url': 'https://api.steampowered.com/ISteamRemoteStorage/GetPublishedFileDetails/v1',\n",
       " 'needed_fields': ['creator',\n",
       "  'file_size',\n",
       "  'preview_url',\n",
       "  'publishedfileid',\n",
       "  'tags',\n",
       "  'time_created',\n",
       "  'time_updated',\n",
       "  'title'],\n",
       " 'assets_path': 'E:/Games/Cities Skylines/Files/Maps',\n",
       " 'mods_path': 'E:/Games/Cities Skylines/Files/Mods'}"
      ]
     },
     "execution_count": 32,
     "metadata": {},
     "output_type": "execute_result"
    }
   ],
   "source": [
    "settings.__dict__"
   ]
  },
  {
   "cell_type": "code",
   "execution_count": 3,
   "metadata": {},
   "outputs": [],
   "source": [
    "for id in ids:\n",
    "    asset = dAsset(id)\n",
    "    asset.get_stats()\n",
    "    asset.download_preview()"
   ]
  },
  {
   "cell_type": "code",
   "execution_count": 31,
   "metadata": {},
   "outputs": [
    {
     "data": {
      "text/plain": [
       "{'2881031511': {'creator': '76561198262198841',\n",
       "  'file_size': 3463194,\n",
       "  'preview_url': 'https://steamuserimages-a.akamaihd.net/ugc/1905612286822734907/C7FBD4D2AC6692BE0441DF704799BCA671177086/',\n",
       "  'publishedfileid': '2881031511',\n",
       "  'tags': [{'tag': 'Mod'}, {'tag': '1.16.0-f3-compatible'}],\n",
       "  'time_created': datetime.datetime(2022, 10, 28, 19, 7, 19),\n",
       "  'time_updated': datetime.datetime(2023, 1, 19, 18, 41, 9),\n",
       "  'title': 'Compatibility Report v2.3.1 (Catalogue 7.8)'}}"
      ]
     },
     "execution_count": 31,
     "metadata": {},
     "output_type": "execute_result"
    }
   ],
   "source": [
    "SWAObject.steam_api_data([2881031511])"
   ]
  },
  {
   "cell_type": "code",
   "execution_count": 5,
   "metadata": {},
   "outputs": [],
   "source": [
    "from SWA_api import SWA_object\n",
    "\n",
    "swa = SWA_object().update_database()"
   ]
  },
  {
   "cell_type": "code",
   "execution_count": 5,
   "metadata": {},
   "outputs": [],
   "source": [
    "asset = SWA_object()\n",
    "data = asset.get_stats_from_steam(ids=[782843214])"
   ]
  },
  {
   "cell_type": "code",
   "execution_count": 11,
   "metadata": {},
   "outputs": [
    {
     "data": {
      "text/plain": [
       "{'_id': 37, 'tag': 'Mod'}"
      ]
     },
     "execution_count": 11,
     "metadata": {},
     "output_type": "execute_result"
    }
   ],
   "source": [
    "tags_coll.find_one({'tag': 'Mod'})"
   ]
  },
  {
   "cell_type": "code",
   "execution_count": 18,
   "metadata": {},
   "outputs": [
    {
     "data": {
      "text/plain": [
       "28"
      ]
     },
     "execution_count": 18,
     "metadata": {},
     "output_type": "execute_result"
    }
   ],
   "source": [
    "len(list(assets_coll.find({'tags': 37})))"
   ]
  },
  {
   "cell_type": "code",
   "execution_count": 10,
   "metadata": {},
   "outputs": [],
   "source": [
    "req = rq.post('https://api.steampowered.com/ISteamRemoteStorage/GetPublishedFileDetails/v1', data={'itemcount': 1, 'publishedfileids[0]': 2865526129})"
   ]
  },
  {
   "cell_type": "code",
   "execution_count": 26,
   "metadata": {},
   "outputs": [
    {
     "data": {
      "text/plain": [
       "[{'steamid': 623936101},\n",
       " {'steamid': 1174322344},\n",
       " {'steamid': 2827922728},\n",
       " {'steamid': 1104329732},\n",
       " {'steamid': 1902775763},\n",
       " {'steamid': 1806615722},\n",
       " {'steamid': 1376206735},\n",
       " {'steamid': 1893280245},\n",
       " {'steamid': 1438178283},\n",
       " {'steamid': 634183211}]"
      ]
     },
     "execution_count": 26,
     "metadata": {},
     "output_type": "execute_result"
    }
   ],
   "source": [
    "list(assets_coll.find({}, projection={'_id': False, 'steamid': True}, limit=10))"
   ]
  },
  {
   "cell_type": "code",
   "execution_count": 29,
   "metadata": {},
   "outputs": [],
   "source": [
    "import shutil\n",
    "\n",
    "\n",
    "shutil.rmtree(settings.assets_path + '/' + '2306635803')"
   ]
  },
  {
   "cell_type": "code",
   "execution_count": 31,
   "metadata": {},
   "outputs": [],
   "source": [
    "with ZipFile(settings.assets_path + '/' + str(2306635803) + '.zip', 'r') as zip:\n",
    "    zip.extractall(settings.assets_path)"
   ]
  },
  {
   "cell_type": "code",
   "execution_count": 28,
   "metadata": {},
   "outputs": [
    {
     "data": {
      "text/plain": [
       "<pymongo.results.UpdateResult at 0x1e1a64fc610>"
      ]
     },
     "execution_count": 28,
     "metadata": {},
     "output_type": "execute_result"
    }
   ],
   "source": [
    "assets_coll.update_one({'steamid': 2306635803}, {'$set': {'need_update': True}})"
   ]
  },
  {
   "cell_type": "code",
   "execution_count": 14,
   "metadata": {},
   "outputs": [
    {
     "data": {
      "text/plain": [
       "{'publishedfileid': '2865526129',\n",
       " 'result': 1,\n",
       " 'creator': '76561198872392470',\n",
       " 'creator_app_id': 255710,\n",
       " 'consumer_app_id': 255710,\n",
       " 'filename': '',\n",
       " 'file_size': 8765903,\n",
       " 'file_url': '',\n",
       " 'hcontent_file': '151061847197989826',\n",
       " 'preview_url': 'https://steamuserimages-a.akamaihd.net/ugc/1820040267753776049/3399C422F9940489D49F43C7A638C89F7E476F74/',\n",
       " 'hcontent_preview': '1820040267753776049',\n",
       " 'title': 'Abasto Mall Buenos Aires',\n",
       " 'description': 'This asset was inspired by the central wholesale fruit and vegetable market of Buenos Aires, built in 1934 and converted to shopping mall in 1998.\\r\\n\\r\\nThe asset is 42k tris approximately. All textures, 512x4096.\\r\\nLOD Tris: 203. Texture LOD 256x256 Diffuse, Ilumination\\r\\nUnique building, same values of default posh mall.\\r\\n\\r\\nWe hope you like it!\\r\\nModocero & Mons\\r\\n\\r\\nKeywords: Argentina, Buenos Aires, Market, Mall, Shopping Center',\n",
       " 'time_created': 1663691932,\n",
       " 'time_updated': 1663691932,\n",
       " 'visibility': 0,\n",
       " 'banned': 0,\n",
       " 'ban_reason': '',\n",
       " 'subscriptions': 8065,\n",
       " 'favorited': 351,\n",
       " 'lifetime_subscriptions': 11988,\n",
       " 'lifetime_favorited': 373,\n",
       " 'views': 10180,\n",
       " 'tags': [{'tag': 'Building'}, {'tag': 'Unique Building'}]}"
      ]
     },
     "execution_count": 14,
     "metadata": {},
     "output_type": "execute_result"
    }
   ],
   "source": [
    "req.json()['response']['publishedfiledetails'][0]"
   ]
  },
  {
   "cell_type": "code",
   "execution_count": 2,
   "metadata": {},
   "outputs": [],
   "source": [
    "ids_from_file = []\n",
    "with open('E:\\CODE\\Steam Workshop Automatic\\links.txt', 'r') as f:\n",
    "    for line in f.readlines():\n",
    "        ids_from_file.append(int(line))"
   ]
  },
  {
   "cell_type": "code",
   "execution_count": 17,
   "metadata": {},
   "outputs": [
    {
     "name": "stdout",
     "output_type": "stream",
     "text": [
      "[]\n"
     ]
    }
   ],
   "source": [
    "print(list(assets_coll.find({'need_update': True})))"
   ]
  },
  {
   "cell_type": "code",
   "execution_count": 3,
   "metadata": {},
   "outputs": [
    {
     "name": "stdout",
     "output_type": "stream",
     "text": [
      "800 from 800"
     ]
    }
   ],
   "source": [
    "i = 0\n",
    "long = len(ids_from_file)\n",
    "for i in range(long):\n",
    "    if (ids_from_file[i] == 2079489980 or i <= 367):\n",
    "        pass\n",
    "    else:\n",
    "        asset = dAsset(ids_from_file[i])\n",
    "        asset.update()\n",
    "        print('\\r' + str(i+1) + ' from ' + str(long), end='')"
   ]
  },
  {
   "cell_type": "code",
   "execution_count": 3,
   "metadata": {},
   "outputs": [],
   "source": [
    "data_steam = asset.get_stats_from_steam()\n",
    "data_db = asset.get_stats_from_db()"
   ]
  },
  {
   "cell_type": "code",
   "execution_count": null,
   "metadata": {},
   "outputs": [],
   "source": [
    "assets_coll.find_one_and_update()"
   ]
  },
  {
   "cell_type": "code",
   "execution_count": 4,
   "metadata": {},
   "outputs": [
    {
     "name": "stdout",
     "output_type": "stream",
     "text": [
      "steamid 2513184232\n",
      "name Leningradskaya Hotel (Seven Sisters), Moscow\n",
      "tags [1, 62]\n",
      "preview_url https://steamuserimages-a.akamaihd.net/ugc/1760325525864370191/A70B395B327D73EDF01B3BFACEB98793136A6213/\n",
      "preview_path previews/2513184232.png\n",
      "path assets/2513184232\n",
      "is_installed False\n",
      "time_local None\n",
      "file_size 16141489\n",
      "time_created 2021-06-11 00:12:17\n",
      "time_updated 2021-06-11 00:12:17\n",
      "author {'steamID64': '76561198072134590', 'steamID': 'kostas667', 'avatarIcon': 'https://avatars.akamai.steamstatic.com/527f89a82770c70e51d6b8c00ce2686986c2df07.jpg', 'avatarMedium': 'https://avatars.akamai.steamstatic.com/527f89a82770c70e51d6b8c00ce2686986c2df07_medium.jpg', 'avatarFull': 'https://avatars.akamai.steamstatic.com/527f89a82770c70e51d6b8c00ce2686986c2df07_full.jpg', 'customURL': 'kostas667'}\n",
      "need_update False\n"
     ]
    }
   ],
   "source": [
    "for key, value in data_steam.items():\n",
    "    print(key, value)"
   ]
  },
  {
   "cell_type": "code",
   "execution_count": 5,
   "metadata": {},
   "outputs": [
    {
     "name": "stdout",
     "output_type": "stream",
     "text": [
      "_id 638c9778bebe65cbc86bc5e3\n",
      "steamid 2513184232\n",
      "name Leningradskaya Hotel (Seven Sisters), Moscow\n",
      "tags [ObjectId('6384346df99239f3906bbc76'), ObjectId('6384346df99239f3906bbcb3')]\n",
      "preview_path E:/CODE/Steam Workshop Automatic/previews/2513184232.png\n",
      "path E:/Games/Cities Skylines/Files/Maps/2513184232\n",
      "is_installed True\n",
      "time_local 2022-10-17 21:44:10.770000\n",
      "file_size 16141489\n",
      "time_created 2021-06-11 00:12:17\n",
      "time_updated 2021-06-11 00:12:17\n",
      "author {'steamID64': '76561198072134590', 'steamID': 'kostas667', 'avatarIcon': 'https://avatars.akamai.steamstatic.com/527f89a82770c70e51d6b8c00ce2686986c2df07.jpg', 'avatarMedium': 'https://avatars.akamai.steamstatic.com/527f89a82770c70e51d6b8c00ce2686986c2df07_medium.jpg', 'avatarFull': 'https://avatars.akamai.steamstatic.com/527f89a82770c70e51d6b8c00ce2686986c2df07_full.jpg', 'customURL': 'kostas667'}\n",
      "need_update False\n",
      "preview_url https://steamuserimages-a.akamaihd.net/ugc/1760325525864370191/A70B395B327D73EDF01B3BFACEB98793136A6213/\n"
     ]
    }
   ],
   "source": [
    "for key, value in data_db.items():\n",
    "    print(key, value)"
   ]
  },
  {
   "cell_type": "code",
   "execution_count": 26,
   "metadata": {},
   "outputs": [
    {
     "ename": "TypeError",
     "evalue": "unsupported operand type(s) for -: 'tuple' and 'tuple'",
     "output_type": "error",
     "traceback": [
      "\u001b[1;31m---------------------------------------------------------------------------\u001b[0m",
      "\u001b[1;31mTypeError\u001b[0m                                 Traceback (most recent call last)",
      "\u001b[1;32m~\\AppData\\Local\\Temp/ipykernel_21380/3099084573.py\u001b[0m in \u001b[0;36m<module>\u001b[1;34m\u001b[0m\n\u001b[1;32m----> 1\u001b[1;33m \u001b[0mtuple\u001b[0m\u001b[1;33m(\u001b[0m\u001b[0mdata_steam\u001b[0m\u001b[1;33m.\u001b[0m\u001b[0mitems\u001b[0m\u001b[1;33m(\u001b[0m\u001b[1;33m)\u001b[0m\u001b[1;33m)\u001b[0m\u001b[1;33m-\u001b[0m\u001b[0mtuple\u001b[0m\u001b[1;33m(\u001b[0m\u001b[0mdata_db\u001b[0m\u001b[1;33m.\u001b[0m\u001b[0mitems\u001b[0m\u001b[1;33m(\u001b[0m\u001b[1;33m)\u001b[0m\u001b[1;33m)\u001b[0m\u001b[1;33m\u001b[0m\u001b[1;33m\u001b[0m\u001b[0m\n\u001b[0m",
      "\u001b[1;31mTypeError\u001b[0m: unsupported operand type(s) for -: 'tuple' and 'tuple'"
     ]
    }
   ],
   "source": [
    "for item in data_steam.items():\n",
    "    data_db.items()"
   ]
  },
  {
   "cell_type": "code",
   "execution_count": 6,
   "metadata": {},
   "outputs": [
    {
     "data": {
      "text/plain": [
       "set()"
      ]
     },
     "execution_count": 6,
     "metadata": {},
     "output_type": "execute_result"
    }
   ],
   "source": [
    "{'a': 123}.items() - {'a': 123, 'b': 123}.items()"
   ]
  },
  {
   "cell_type": "code",
   "execution_count": 3,
   "metadata": {},
   "outputs": [
    {
     "data": {
      "text/plain": [
       "<pymongo.results.DeleteResult at 0x259f4492fd0>"
      ]
     },
     "execution_count": 3,
     "metadata": {},
     "output_type": "execute_result"
    }
   ],
   "source": [
    "# assets_coll.delete_many({})"
   ]
  },
  {
   "cell_type": "code",
   "execution_count": null,
   "metadata": {},
   "outputs": [],
   "source": [
    "class Document():\n",
    "    def __init__(self, id: int, name: str, url: str, pic_url: str, original_update_date: datetime, my_update_date: datetime, size: int, path: str, ):\n",
    "        self.id = id\n",
    "        self.name = name\n",
    "        self.url = url\n",
    "        self.pic_url = pic_url\n",
    "        self.original_update_date = original_update_date\n",
    "        self.my_update_date = my_update_date\n",
    "        self.size = size\n",
    "        self.path = path\n",
    "\n",
    "class Author():\n",
    "    def __init__(self, id: int, name: str, url: str):\n",
    "        self.id = id\n",
    "        self.name = name\n",
    "        self.url = url\n",
    "\n",
    "\n",
    "class Asset(Document):\n",
    "    def __init__(self, id, name, description, url, pic_url, type: list, author_id: int):\n",
    "        super().__init__(id, name, description, url, pic_url)\n",
    "        self.type = type\n",
    "        self.author = Author(author_id)\n"
   ]
  }
 ],
 "metadata": {
  "kernelspec": {
   "display_name": "Python 3",
   "language": "python",
   "name": "python3"
  },
  "language_info": {
   "codemirror_mode": {
    "name": "ipython",
    "version": 3
   },
   "file_extension": ".py",
   "mimetype": "text/x-python",
   "name": "python",
   "nbconvert_exporter": "python",
   "pygments_lexer": "ipython3",
   "version": "3.11.2"
  },
  "orig_nbformat": 4,
  "vscode": {
   "interpreter": {
    "hash": "f5d60dadaadefcdc8ea71f1b2a7d61f81b140c3ffed39f6be6e95efa72c685b2"
   }
  }
 },
 "nbformat": 4,
 "nbformat_minor": 2
}
