{
 "cells": [
  {
   "cell_type": "code",
   "execution_count": null,
   "metadata": {},
   "outputs": [],
   "source": [
    "import os\n",
    "\n",
    "path = \"E:/Games/Cities Skylines/Files/Maps/1285201733\"\n",
    "data = {}\n",
    "files = os.listdir(path)\n",
    "for file in files:\n",
    "    full_path = os.path.join(path, file)\n",
    "    data.update({file: os.stat(full_path).st_size})"
   ]
  },
  {
   "cell_type": "code",
   "execution_count": null,
   "metadata": {},
   "outputs": [],
   "source": [
    "data"
   ]
  },
  {
   "attachments": {},
   "cell_type": "markdown",
   "metadata": {},
   "source": [
    "# Steam API"
   ]
  },
  {
   "cell_type": "code",
   "execution_count": null,
   "metadata": {},
   "outputs": [],
   "source": [
    "import steam.webapi as api\n",
    "# import steam.steamid as steamid\n",
    "import requests\n"
   ]
  },
  {
   "cell_type": "code",
   "execution_count": null,
   "metadata": {},
   "outputs": [],
   "source": [
    "webapi = api.WebAPI(token)"
   ]
  },
  {
   "cell_type": "code",
   "execution_count": null,
   "metadata": {},
   "outputs": [],
   "source": [
    "import base64"
   ]
  },
  {
   "cell_type": "code",
   "execution_count": null,
   "metadata": {},
   "outputs": [],
   "source": [
    "base64."
   ]
  },
  {
   "cell_type": "code",
   "execution_count": null,
   "metadata": {},
   "outputs": [],
   "source": [
    "import requests\n",
    "\n",
    "STEAM_API_KEY = token\n",
    "\n",
    "def get_user_favorites():\n",
    "    url = f'https://partner.steam-api.com/ISteamPublishedItemSearch/RankedByPublicationOrder/v1/?key={STEAM_API_KEY}&steamid=333668425&appid=255710&startidx=0&count=10&tagcount=0&usertagcount=0'\n",
    "    response = requests.post(url)\n",
    "    # if response.status_code == 200:\n",
    "    #     data = response.json()\n",
    "    #     if 'response' in data and 'publishedfiledetails' in data['response']:\n",
    "    #         return data['response']['publishedfiledetails'][0]\n",
    "    return response\n",
    "\n",
    "result = get_user_favorites()\n",
    "result.text"
   ]
  },
  {
   "cell_type": "code",
   "execution_count": null,
   "metadata": {},
   "outputs": [],
   "source": [
    "params = {\n",
    "    'key': token,\n",
    "    'appid': 255710,\n",
    "    'steamid': 333668425,\n",
    "    'startidx': 0,\n",
    "    'count': 2,\n",
    "    'tagcount': 0,\n",
    "    'usertagcount': 0\n",
    "}"
   ]
  },
  {
   "cell_type": "code",
   "execution_count": null,
   "metadata": {},
   "outputs": [],
   "source": [
    "import steam.webauth as wa\n"
   ]
  },
  {
   "cell_type": "code",
   "execution_count": null,
   "metadata": {},
   "outputs": [],
   "source": [
    "user = wa.WebAuth('antydemidov')"
   ]
  },
  {
   "cell_type": "code",
   "execution_count": null,
   "metadata": {},
   "outputs": [],
   "source": [
    "params = {\n",
    "    'key': token,\n",
    "    'appid': 255710,\n",
    "    'steamid': 333668425,\n",
    "    'startidx': 0,\n",
    "    'count': 10,\n",
    "    'tagcount': 0,\n",
    "    'usertagcount': 0\n",
    "}\n",
    "req = requests.post('https://partner.steam-api.com/ISteamPublishedItemSearch/RankedByPublicationOrder/v1/?key={token}', params=params)\n",
    "req.text"
   ]
  },
  {
   "cell_type": "code",
   "execution_count": null,
   "metadata": {},
   "outputs": [],
   "source": [
    "user.session.get('https://store.steampowered.com/account/history/')"
   ]
  },
  {
   "cell_type": "code",
   "execution_count": null,
   "metadata": {},
   "outputs": [],
   "source": [
    "from steam.webapi import WebAPI"
   ]
  },
  {
   "cell_type": "code",
   "execution_count": null,
   "metadata": {},
   "outputs": [],
   "source": [
    "api = WebAPI().interfaces"
   ]
  },
  {
   "cell_type": "code",
   "execution_count": null,
   "metadata": {},
   "outputs": [],
   "source": [
    "import requests as rq"
   ]
  },
  {
   "cell_type": "code",
   "execution_count": null,
   "metadata": {},
   "outputs": [],
   "source": [
    "data = {\n",
    "    'steamid': 333668425,\n",
    "    'appid': 255710\n",
    "}\n",
    "res = rq.post('https://partner.steam-api.com/ISteamRemoteStorage/EnumerateUserSubscribedFiles/v1/', data=data)"
   ]
  },
  {
   "cell_type": "code",
   "execution_count": null,
   "metadata": {},
   "outputs": [],
   "source": [
    "res.text"
   ]
  },
  {
   "cell_type": "code",
   "execution_count": null,
   "metadata": {},
   "outputs": [],
   "source": [
    "res = user.session.get('https://steamcommunity.com/id/antydemidov/myworkshopfiles/?appid=255710&sort=score&browsefilter=myfavorites&view=imagewall')"
   ]
  },
  {
   "cell_type": "code",
   "execution_count": null,
   "metadata": {},
   "outputs": [],
   "source": [
    "res.text"
   ]
  },
  {
   "attachments": {},
   "cell_type": "markdown",
   "metadata": {},
   "source": [
    "# Optimization"
   ]
  },
  {
   "cell_type": "code",
   "execution_count": null,
   "metadata": {},
   "outputs": [],
   "source": [
    "from connection import client, settings"
   ]
  },
  {
   "cell_type": "code",
   "execution_count": null,
   "metadata": {},
   "outputs": [],
   "source": [
    "assets_coll = client.get_database(settings.database_name).get_collection('assets')"
   ]
  },
  {
   "cell_type": "code",
   "execution_count": null,
   "metadata": {},
   "outputs": [],
   "source": [
    "cursor = assets_coll.find({})"
   ]
  },
  {
   "cell_type": "code",
   "execution_count": null,
   "metadata": {},
   "outputs": [],
   "source": [
    "cursor.next()"
   ]
  },
  {
   "attachments": {},
   "cell_type": "markdown",
   "metadata": {},
   "source": [
    "# Other"
   ]
  },
  {
   "cell_type": "code",
   "execution_count": null,
   "metadata": {},
   "outputs": [],
   "source": [
    "import json\n",
    "import os\n",
    "import re\n",
    "from datetime import datetime\n",
    "from typing import Literal\n",
    "from zipfile import ZipFile\n",
    "\n",
    "import requests as rq\n",
    "from bs4 import BeautifulSoup as bs\n",
    "from decouple import config\n",
    "\n",
    "# Carefully! There are handmade modules.\n",
    "from connection import Connection\n",
    "from results import CommonResult\n",
    "from settings import SWASettings\n",
    "from SWA_api import SWAObject, Asset, dAsset\n",
    "\n",
    "settings = SWASettings().load().validate()\n",
    "db = Connection(settings.database_name)\n",
    "tags_coll, assets_coll = db.get_coll('tags'), db.get_coll('assets')"
   ]
  },
  {
   "cell_type": "code",
   "execution_count": null,
   "metadata": {},
   "outputs": [],
   "source": [
    "from bson import DBRef"
   ]
  },
  {
   "cell_type": "code",
   "execution_count": null,
   "metadata": {},
   "outputs": [],
   "source": [
    "ref = DBRef(tags_coll.name, 1, db.db_name)"
   ]
  },
  {
   "cell_type": "code",
   "execution_count": null,
   "metadata": {},
   "outputs": [],
   "source": [
    "data = assets_coll.find_one({})\n",
    "d_asset = dAsset(**data)"
   ]
  },
  {
   "cell_type": "code",
   "execution_count": null,
   "metadata": {},
   "outputs": [],
   "source": [
    "d_asset.to_dict"
   ]
  },
  {
   "cell_type": "code",
   "execution_count": null,
   "metadata": {},
   "outputs": [],
   "source": [
    "d_asset.to_dict()"
   ]
  },
  {
   "cell_type": "code",
   "execution_count": null,
   "metadata": {},
   "outputs": [],
   "source": [
    "ids = SWAObject().get_ids_from_db()"
   ]
  },
  {
   "cell_type": "code",
   "execution_count": null,
   "metadata": {},
   "outputs": [],
   "source": [
    "tags_coll = db.db.get_collection('tags')"
   ]
  },
  {
   "cell_type": "code",
   "execution_count": null,
   "metadata": {},
   "outputs": [],
   "source": [
    "settings.__dict__"
   ]
  },
  {
   "cell_type": "code",
   "execution_count": null,
   "metadata": {},
   "outputs": [],
   "source": [
    "for id in ids:\n",
    "    asset = dAsset(id)\n",
    "    asset.get_stats()\n",
    "    asset.download_preview()"
   ]
  },
  {
   "cell_type": "code",
   "execution_count": null,
   "metadata": {},
   "outputs": [],
   "source": [
    "SWAObject.steam_api_data([2881031511])"
   ]
  },
  {
   "cell_type": "code",
   "execution_count": null,
   "metadata": {},
   "outputs": [],
   "source": [
    "from SWA_api import SWA_object\n",
    "\n",
    "swa = SWA_object().update_database()"
   ]
  },
  {
   "cell_type": "code",
   "execution_count": null,
   "metadata": {},
   "outputs": [],
   "source": [
    "asset = SWA_object()\n",
    "data = asset.get_stats_from_steam(ids=[782843214])"
   ]
  },
  {
   "cell_type": "code",
   "execution_count": null,
   "metadata": {},
   "outputs": [],
   "source": [
    "tags_coll.find_one({'tag': 'Mod'})"
   ]
  },
  {
   "cell_type": "code",
   "execution_count": null,
   "metadata": {},
   "outputs": [],
   "source": [
    "len(list(assets_coll.find({'tags': 37})))"
   ]
  },
  {
   "cell_type": "code",
   "execution_count": null,
   "metadata": {},
   "outputs": [],
   "source": [
    "req = rq.post('https://api.steampowered.com/ISteamRemoteStorage/GetPublishedFileDetails/v1', data={'itemcount': 1, 'publishedfileids[0]': 2865526129})"
   ]
  },
  {
   "cell_type": "code",
   "execution_count": null,
   "metadata": {},
   "outputs": [],
   "source": [
    "list(assets_coll.find({}, projection={'_id': False, 'steamid': True}, limit=10))"
   ]
  },
  {
   "cell_type": "code",
   "execution_count": null,
   "metadata": {},
   "outputs": [],
   "source": [
    "import shutil\n",
    "\n",
    "\n",
    "shutil.rmtree(settings.assets_path + '/' + '2306635803')"
   ]
  },
  {
   "cell_type": "code",
   "execution_count": null,
   "metadata": {},
   "outputs": [],
   "source": [
    "with ZipFile(settings.assets_path + '/' + str(2306635803) + '.zip', 'r') as zip:\n",
    "    zip.extractall(settings.assets_path)"
   ]
  },
  {
   "cell_type": "code",
   "execution_count": null,
   "metadata": {},
   "outputs": [],
   "source": [
    "assets_coll.update_one({'steamid': 2306635803}, {'$set': {'need_update': True}})"
   ]
  },
  {
   "cell_type": "code",
   "execution_count": null,
   "metadata": {},
   "outputs": [],
   "source": [
    "req.json()['response']['publishedfiledetails'][0]"
   ]
  },
  {
   "cell_type": "code",
   "execution_count": null,
   "metadata": {},
   "outputs": [],
   "source": [
    "ids_from_file = []\n",
    "with open('E:\\CODE\\Steam Workshop Automatic\\links.txt', 'r') as f:\n",
    "    for line in f.readlines():\n",
    "        ids_from_file.append(int(line))"
   ]
  },
  {
   "cell_type": "code",
   "execution_count": null,
   "metadata": {},
   "outputs": [],
   "source": [
    "print(list(assets_coll.find({'need_update': True})))"
   ]
  },
  {
   "cell_type": "code",
   "execution_count": null,
   "metadata": {},
   "outputs": [],
   "source": [
    "i = 0\n",
    "long = len(ids_from_file)\n",
    "for i in range(long):\n",
    "    if (ids_from_file[i] == 2079489980 or i <= 367):\n",
    "        pass\n",
    "    else:\n",
    "        asset = dAsset(ids_from_file[i])\n",
    "        asset.update()\n",
    "        print('\\r' + str(i+1) + ' from ' + str(long), end='')"
   ]
  },
  {
   "cell_type": "code",
   "execution_count": null,
   "metadata": {},
   "outputs": [],
   "source": [
    "data_steam = asset.get_stats_from_steam()\n",
    "data_db = asset.get_stats_from_db()"
   ]
  },
  {
   "cell_type": "code",
   "execution_count": null,
   "metadata": {},
   "outputs": [],
   "source": [
    "assets_coll.find_one_and_update()"
   ]
  },
  {
   "cell_type": "code",
   "execution_count": null,
   "metadata": {},
   "outputs": [],
   "source": [
    "for key, value in data_steam.items():\n",
    "    print(key, value)"
   ]
  },
  {
   "cell_type": "code",
   "execution_count": null,
   "metadata": {},
   "outputs": [],
   "source": [
    "for key, value in data_db.items():\n",
    "    print(key, value)"
   ]
  },
  {
   "cell_type": "code",
   "execution_count": null,
   "metadata": {},
   "outputs": [],
   "source": [
    "for item in data_steam.items():\n",
    "    data_db.items()"
   ]
  },
  {
   "cell_type": "code",
   "execution_count": null,
   "metadata": {},
   "outputs": [],
   "source": [
    "{'a': 123}.items() - {'a': 123, 'b': 123}.items()"
   ]
  },
  {
   "cell_type": "code",
   "execution_count": null,
   "metadata": {},
   "outputs": [],
   "source": [
    "settings = SWASettings()\n",
    "client = MongoClient(settings.uri)"
   ]
  },
  {
   "cell_type": "code",
   "execution_count": null,
   "metadata": {},
   "outputs": [],
   "source": [
    "aggr.next()"
   ]
  },
  {
   "cell_type": "code",
   "execution_count": null,
   "metadata": {},
   "outputs": [],
   "source": [
    "# assets_coll.delete_many({})"
   ]
  },
  {
   "cell_type": "code",
   "execution_count": null,
   "metadata": {},
   "outputs": [],
   "source": [
    "class Document():\n",
    "    def __init__(self, id: int, name: str, url: str, pic_url: str, original_update_date: datetime, my_update_date: datetime, size: int, path: str, ):\n",
    "        self.id = id\n",
    "        self.name = name\n",
    "        self.url = url\n",
    "        self.pic_url = pic_url\n",
    "        self.original_update_date = original_update_date\n",
    "        self.my_update_date = my_update_date\n",
    "        self.size = size\n",
    "        self.path = path\n",
    "\n",
    "class Author():\n",
    "    def __init__(self, id: int, name: str, url: str):\n",
    "        self.id = id\n",
    "        self.name = name\n",
    "        self.url = url\n",
    "\n",
    "\n",
    "class Asset(Document):\n",
    "    def __init__(self, id, name, description, url, pic_url, type: list, author_id: int):\n",
    "        super().__init__(id, name, description, url, pic_url)\n",
    "        self.type = type\n",
    "        self.author = Author(author_id)\n"
   ]
  }
 ],
 "metadata": {
  "kernelspec": {
   "display_name": "Python 3",
   "language": "python",
   "name": "python3"
  },
  "language_info": {
   "codemirror_mode": {
    "name": "ipython",
    "version": 3
   },
   "file_extension": ".py",
   "mimetype": "text/x-python",
   "name": "python",
   "nbconvert_exporter": "python",
   "pygments_lexer": "ipython3",
   "version": "3.11.3"
  },
  "orig_nbformat": 4,
  "vscode": {
   "interpreter": {
    "hash": "f5d60dadaadefcdc8ea71f1b2a7d61f81b140c3ffed39f6be6e95efa72c685b2"
   }
  }
 },
 "nbformat": 4,
 "nbformat_minor": 2
}
