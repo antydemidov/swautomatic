{
 "cells": [
  {
   "attachments": {},
   "cell_type": "markdown",
   "metadata": {},
   "source": [
    "# Update DB"
   ]
  },
  {
   "cell_type": "code",
   "execution_count": 2,
   "metadata": {},
   "outputs": [],
   "source": [
    "from connection import assets_coll, tags_coll"
   ]
  },
  {
   "attachments": {},
   "cell_type": "markdown",
   "metadata": {},
   "source": [
    "#  Image processing"
   ]
  },
  {
   "cell_type": "code",
   "execution_count": 6,
   "metadata": {},
   "outputs": [],
   "source": [
    "from PIL import Image\n",
    "from urllib.request import urlopen"
   ]
  },
  {
   "cell_type": "code",
   "execution_count": 58,
   "metadata": {},
   "outputs": [],
   "source": [
    "path = 'https://steamuserimages-a.akamaihd.net/ugc/1690500403331220419/A2C9F12D4B8378DA8E818420ACD11F033D8D3E42/'\n",
    "img = Image.open(urlopen(path))\n",
    "if min(img.size) > 512:\n",
    "    ratio = 512 / min(img.size)\n",
    "    x, y = img.size\n",
    "    size = (int(x * ratio), int(y * ratio))\n",
    "    img = img.resize(size)\n",
    "img.save(f'test-full.{img.format.lower()}', optimize=True)"
   ]
  },
  {
   "cell_type": "code",
   "execution_count": 57,
   "metadata": {},
   "outputs": [
    {
     "data": {
      "text/plain": [
       "(358, 147)"
      ]
     },
     "execution_count": 57,
     "metadata": {},
     "output_type": "execute_result"
    }
   ],
   "source": [
    "x, y = (512, 210)\n",
    "(int(x * 0.7), int(y * 0.7))"
   ]
  },
  {
   "cell_type": "code",
   "execution_count": 42,
   "metadata": {},
   "outputs": [
    {
     "data": {
      "text/plain": [
       "1.5625"
      ]
     },
     "execution_count": 42,
     "metadata": {},
     "output_type": "execute_result"
    }
   ],
   "source": [
    "800 / min(img.size)"
   ]
  },
  {
   "cell_type": "code",
   "execution_count": 35,
   "metadata": {},
   "outputs": [],
   "source": [
    "ratio = 512 / 800"
   ]
  },
  {
   "cell_type": "code",
   "execution_count": 38,
   "metadata": {},
   "outputs": [
    {
     "data": {
      "text/plain": [
       "473"
      ]
     },
     "execution_count": 38,
     "metadata": {},
     "output_type": "execute_result"
    }
   ],
   "source": [
    "int(740 * ratio)"
   ]
  },
  {
   "attachments": {},
   "cell_type": "markdown",
   "metadata": {},
   "source": [
    "# Data Modelling"
   ]
  },
  {
   "cell_type": "code",
   "execution_count": 1,
   "metadata": {},
   "outputs": [
    {
     "data": {
      "text/plain": [
       "{'steamid': 623936101,\n",
       " 'name': '(G) The Court Building',\n",
       " 'tags': ['No tags'],\n",
       " 'preview_url': 'https://steamuserimages-a.akamaihd.net/ugc/1690500403331220419/A2C9F12D4B8378DA8E818420ACD11F033D8D3E42/',\n",
       " 'is_installed': True,\n",
       " 'file_size': 5668633,\n",
       " 'time_created': datetime.datetime(2016, 2, 14, 12, 25, 56),\n",
       " 'time_updated': datetime.datetime(2020, 11, 9, 17, 41, 28),\n",
       " 'author': {'steam_id64': 76561198081345816,\n",
       "  'steam_id': 'Prosper',\n",
       "  'avatar_icon': 'https://avatars.akamai.steamstatic.com/e2c42d5f49d97529777558703d18428e7e6d80d6.jpg',\n",
       "  'avatar_medium': 'https://avatars.akamai.steamstatic.com/e2c42d5f49d97529777558703d18428e7e6d80d6_medium.jpg',\n",
       "  'avatar_full': 'https://avatars.akamai.steamstatic.com/e2c42d5f49d97529777558703d18428e7e6d80d6_full.jpg',\n",
       "  'custom_url': 'prosper_merime'},\n",
       " 'need_update': False,\n",
       " 'type': 'asset',\n",
       " 'path': 'E:\\\\Games\\\\Cities Skylines\\\\Files\\\\Maps\\\\623936101',\n",
       " 'time_local': datetime.datetime(2022, 10, 17, 21, 41, 38, 126392)}"
      ]
     },
     "execution_count": 1,
     "metadata": {},
     "output_type": "execute_result"
    }
   ],
   "source": [
    "from SWA_api import SWAObject\n",
    "swa = SWAObject()\n",
    "asset = swa.get_asset(623936101)\n",
    "data = asset.to_dict()\n",
    "data"
   ]
  },
  {
   "cell_type": "code",
   "execution_count": 6,
   "metadata": {},
   "outputs": [
    {
     "data": {
      "text/plain": [
       "{'steamid': 623936101,\n",
       " 'name': '(G) The Court Building',\n",
       " 'tags': [{'tag': 'No tags'}],\n",
       " 'preview_url': 'https://steamuserimages-a.akamaihd.net/ugc/1690500403331220419/A2C9F12D4B8378DA8E818420ACD11F033D8D3E42/',\n",
       " 'is_installed': True,\n",
       " 'time_local': None,\n",
       " 'file_size': 5668633,\n",
       " 'time_created': datetime.datetime(2016, 2, 14, 12, 25, 56),\n",
       " 'time_updated': datetime.datetime(2020, 11, 9, 17, 41, 28),\n",
       " 'author': {'steam_id64': 76561198081345816,\n",
       "  'steam_id': 'Prosper',\n",
       "  'avatar_icon': 'https://avatars.akamai.steamstatic.com/e2c42d5f49d97529777558703d18428e7e6d80d6.jpg',\n",
       "  'avatar_medium': 'https://avatars.akamai.steamstatic.com/e2c42d5f49d97529777558703d18428e7e6d80d6_medium.jpg',\n",
       "  'avatar_full': 'https://avatars.akamai.steamstatic.com/e2c42d5f49d97529777558703d18428e7e6d80d6_full.jpg',\n",
       "  'custom_url': 'prosper_merime'},\n",
       " 'need_update': False,\n",
       " 'type': 'asset',\n",
       " 'path': 'E:/Games/Cities Skylines/Files\\\\Maps\\\\623936101'}"
      ]
     },
     "execution_count": 6,
     "metadata": {},
     "output_type": "execute_result"
    }
   ],
   "source": [
    "data.pop('swa_object')\n",
    "data"
   ]
  },
  {
   "cell_type": "code",
   "execution_count": 92,
   "metadata": {},
   "outputs": [],
   "source": [
    "tags_data = list(tags_coll.find({}))\n",
    "tag_str = [{'tag': tag['tag']} for tag in tags_data]"
   ]
  },
  {
   "cell_type": "code",
   "execution_count": 93,
   "metadata": {},
   "outputs": [
    {
     "data": {
      "text/plain": [
       "[]"
      ]
     },
     "execution_count": 93,
     "metadata": {},
     "output_type": "execute_result"
    }
   ],
   "source": [
    "tag_str"
   ]
  },
  {
   "cell_type": "code",
   "execution_count": 3,
   "metadata": {},
   "outputs": [
    {
     "data": {
      "text/plain": [
       "<pymongo.results.DeleteResult at 0x2a1b472f010>"
      ]
     },
     "execution_count": 3,
     "metadata": {},
     "output_type": "execute_result"
    }
   ],
   "source": [
    "tags_coll.delete_many({})"
   ]
  },
  {
   "cell_type": "code",
   "execution_count": 1,
   "metadata": {},
   "outputs": [
    {
     "name": "stderr",
     "output_type": "stream",
     "text": [
      "e:\\CODE\\Steam Workshop Automatic\\SWA_api.py:144: GuessedAtParserWarning: No parser was explicitly specified, so I'm using the best available HTML parser for this system (\"lxml\"). This usually isn't a problem, but if you run this code on another system, or in a different virtual environment, it may use a different parser and behave differently.\n",
      "\n",
      "The code that caused this warning is on line 144 of the file e:\\CODE\\Steam Workshop Automatic\\SWA_api.py. To get rid of this warning, pass the additional argument 'features=\"lxml\"' to the BeautifulSoup constructor.\n",
      "\n",
      "  soup = bs(req.content)\n"
     ]
    },
    {
     "data": {
      "text/plain": [
       "<results.CommonResult at 0x2afa7d25ad0>"
      ]
     },
     "execution_count": 1,
     "metadata": {},
     "output_type": "execute_result"
    }
   ],
   "source": [
    "from SWA_api import SWAObject\n",
    "swa = SWAObject()\n",
    "swa.update_tags()"
   ]
  },
  {
   "cell_type": "code",
   "execution_count": 91,
   "metadata": {},
   "outputs": [
    {
     "ename": "TypeError",
     "evalue": "document must be an instance of dict, bson.son.SON, bson.raw_bson.RawBSONDocument, or a type that inherits from collections.MutableMapping",
     "output_type": "error",
     "traceback": [
      "\u001b[1;31m---------------------------------------------------------------------------\u001b[0m",
      "\u001b[1;31mTypeError\u001b[0m                                 Traceback (most recent call last)",
      "Cell \u001b[1;32mIn[91], line 1\u001b[0m\n\u001b[1;32m----> 1\u001b[0m tags_coll\u001b[39m.\u001b[39;49minsert_many(tag_str)\n",
      "File \u001b[1;32m~\\AppData\\Local\\Packages\\PythonSoftwareFoundation.Python.3.11_qbz5n2kfra8p0\\LocalCache\\local-packages\\Python311\\site-packages\\pymongo\\_csot.py:105\u001b[0m, in \u001b[0;36mapply.<locals>.csot_wrapper\u001b[1;34m(self, *args, **kwargs)\u001b[0m\n\u001b[0;32m    103\u001b[0m         \u001b[39mwith\u001b[39;00m _TimeoutContext(timeout):\n\u001b[0;32m    104\u001b[0m             \u001b[39mreturn\u001b[39;00m func(\u001b[39mself\u001b[39m, \u001b[39m*\u001b[39margs, \u001b[39m*\u001b[39m\u001b[39m*\u001b[39mkwargs)\n\u001b[1;32m--> 105\u001b[0m \u001b[39mreturn\u001b[39;00m func(\u001b[39mself\u001b[39;49m, \u001b[39m*\u001b[39;49margs, \u001b[39m*\u001b[39;49m\u001b[39m*\u001b[39;49mkwargs)\n",
      "File \u001b[1;32m~\\AppData\\Local\\Packages\\PythonSoftwareFoundation.Python.3.11_qbz5n2kfra8p0\\LocalCache\\local-packages\\Python311\\site-packages\\pymongo\\collection.py:713\u001b[0m, in \u001b[0;36mCollection.insert_many\u001b[1;34m(self, documents, ordered, bypass_document_validation, session, comment)\u001b[0m\n\u001b[0;32m    711\u001b[0m write_concern \u001b[39m=\u001b[39m \u001b[39mself\u001b[39m\u001b[39m.\u001b[39m_write_concern_for(session)\n\u001b[0;32m    712\u001b[0m blk \u001b[39m=\u001b[39m _Bulk(\u001b[39mself\u001b[39m, ordered, bypass_document_validation, comment\u001b[39m=\u001b[39mcomment)\n\u001b[1;32m--> 713\u001b[0m blk\u001b[39m.\u001b[39mops \u001b[39m=\u001b[39m [doc \u001b[39mfor\u001b[39;49;00m doc \u001b[39min\u001b[39;49;00m gen()]\n\u001b[0;32m    714\u001b[0m blk\u001b[39m.\u001b[39mexecute(write_concern, session\u001b[39m=\u001b[39msession)\n\u001b[0;32m    715\u001b[0m \u001b[39mreturn\u001b[39;00m InsertManyResult(inserted_ids, write_concern\u001b[39m.\u001b[39macknowledged)\n",
      "File \u001b[1;32m~\\AppData\\Local\\Packages\\PythonSoftwareFoundation.Python.3.11_qbz5n2kfra8p0\\LocalCache\\local-packages\\Python311\\site-packages\\pymongo\\collection.py:713\u001b[0m, in \u001b[0;36m<listcomp>\u001b[1;34m(.0)\u001b[0m\n\u001b[0;32m    711\u001b[0m write_concern \u001b[39m=\u001b[39m \u001b[39mself\u001b[39m\u001b[39m.\u001b[39m_write_concern_for(session)\n\u001b[0;32m    712\u001b[0m blk \u001b[39m=\u001b[39m _Bulk(\u001b[39mself\u001b[39m, ordered, bypass_document_validation, comment\u001b[39m=\u001b[39mcomment)\n\u001b[1;32m--> 713\u001b[0m blk\u001b[39m.\u001b[39mops \u001b[39m=\u001b[39m [doc \u001b[39mfor\u001b[39;00m doc \u001b[39min\u001b[39;00m gen()]\n\u001b[0;32m    714\u001b[0m blk\u001b[39m.\u001b[39mexecute(write_concern, session\u001b[39m=\u001b[39msession)\n\u001b[0;32m    715\u001b[0m \u001b[39mreturn\u001b[39;00m InsertManyResult(inserted_ids, write_concern\u001b[39m.\u001b[39macknowledged)\n",
      "File \u001b[1;32m~\\AppData\\Local\\Packages\\PythonSoftwareFoundation.Python.3.11_qbz5n2kfra8p0\\LocalCache\\local-packages\\Python311\\site-packages\\pymongo\\collection.py:704\u001b[0m, in \u001b[0;36mCollection.insert_many.<locals>.gen\u001b[1;34m()\u001b[0m\n\u001b[0;32m    702\u001b[0m \u001b[39m\u001b[39m\u001b[39m\"\"\"A generator that validates documents and handles _ids.\"\"\"\u001b[39;00m\n\u001b[0;32m    703\u001b[0m \u001b[39mfor\u001b[39;00m document \u001b[39min\u001b[39;00m documents:\n\u001b[1;32m--> 704\u001b[0m     common\u001b[39m.\u001b[39;49mvalidate_is_document_type(\u001b[39m\"\u001b[39;49m\u001b[39mdocument\u001b[39;49m\u001b[39m\"\u001b[39;49m, document)\n\u001b[0;32m    705\u001b[0m     \u001b[39mif\u001b[39;00m \u001b[39mnot\u001b[39;00m \u001b[39misinstance\u001b[39m(document, RawBSONDocument):\n\u001b[0;32m    706\u001b[0m         \u001b[39mif\u001b[39;00m \u001b[39m\"\u001b[39m\u001b[39m_id\u001b[39m\u001b[39m\"\u001b[39m \u001b[39mnot\u001b[39;00m \u001b[39min\u001b[39;00m document:\n",
      "File \u001b[1;32m~\\AppData\\Local\\Packages\\PythonSoftwareFoundation.Python.3.11_qbz5n2kfra8p0\\LocalCache\\local-packages\\Python311\\site-packages\\pymongo\\common.py:521\u001b[0m, in \u001b[0;36mvalidate_is_document_type\u001b[1;34m(option, value)\u001b[0m\n\u001b[0;32m    519\u001b[0m \u001b[39m\u001b[39m\u001b[39m\"\"\"Validate the type of method arguments that expect a MongoDB document.\"\"\"\u001b[39;00m\n\u001b[0;32m    520\u001b[0m \u001b[39mif\u001b[39;00m \u001b[39mnot\u001b[39;00m \u001b[39misinstance\u001b[39m(value, (abc\u001b[39m.\u001b[39mMutableMapping, RawBSONDocument)):\n\u001b[1;32m--> 521\u001b[0m     \u001b[39mraise\u001b[39;00m \u001b[39mTypeError\u001b[39;00m(\n\u001b[0;32m    522\u001b[0m         \u001b[39m\"\u001b[39m\u001b[39m%s\u001b[39;00m\u001b[39m must be an instance of dict, bson.son.SON, \u001b[39m\u001b[39m\"\u001b[39m\n\u001b[0;32m    523\u001b[0m         \u001b[39m\"\u001b[39m\u001b[39mbson.raw_bson.RawBSONDocument, or \u001b[39m\u001b[39m\"\u001b[39m\n\u001b[0;32m    524\u001b[0m         \u001b[39m\"\u001b[39m\u001b[39ma type that inherits from \u001b[39m\u001b[39m\"\u001b[39m\n\u001b[0;32m    525\u001b[0m         \u001b[39m\"\u001b[39m\u001b[39mcollections.MutableMapping\u001b[39m\u001b[39m\"\u001b[39m \u001b[39m%\u001b[39m (option,)\n\u001b[0;32m    526\u001b[0m     )\n",
      "\u001b[1;31mTypeError\u001b[0m: document must be an instance of dict, bson.son.SON, bson.raw_bson.RawBSONDocument, or a type that inherits from collections.MutableMapping"
     ]
    }
   ],
   "source": [
    "tags_coll.insert_many(tag_str)"
   ]
  },
  {
   "cell_type": "code",
   "execution_count": 89,
   "metadata": {},
   "outputs": [
    {
     "data": {
      "text/plain": [
       "['Building',\n",
       " 'Campus',\n",
       " 'Campus Area',\n",
       " 'Campus Liberal Arts College',\n",
       " 'Campus Trade School',\n",
       " 'Campus University',\n",
       " 'Cinematic Cameras',\n",
       " 'Citizen',\n",
       " 'Color Correction LUT',\n",
       " 'Commercial',\n",
       " 'Commercial High',\n",
       " 'Commercial Leisure',\n",
       " 'Commercial Low',\n",
       " 'Commercial Tourism',\n",
       " 'Deathcare',\n",
       " 'District Style',\n",
       " 'Education',\n",
       " 'Electricity',\n",
       " 'Fire Department',\n",
       " 'Fishing Industry',\n",
       " 'Garbage',\n",
       " 'Healthcare',\n",
       " 'Industrial',\n",
       " 'Industrial Farming',\n",
       " 'Industrial Forestry',\n",
       " 'Industrial Generic',\n",
       " 'Industrial Oil',\n",
       " 'Industrial Ore',\n",
       " 'Industry Area',\n",
       " 'Industry Area Farming',\n",
       " 'Industry Area Forestry',\n",
       " 'Industry Area Oil',\n",
       " 'Industry Area Ore',\n",
       " 'Intersection',\n",
       " 'Map',\n",
       " 'Map Theme',\n",
       " 'Mod',\n",
       " 'Monument',\n",
       " 'Office',\n",
       " 'Park',\n",
       " 'Park Area',\n",
       " 'Police Department',\n",
       " 'Prop',\n",
       " 'Residential',\n",
       " 'Residential High',\n",
       " 'Residential Low',\n",
       " 'Road',\n",
       " 'SaveGame',\n",
       " 'Scenario',\n",
       " 'Transport',\n",
       " 'Transport Bus',\n",
       " 'Transport Cable Car',\n",
       " 'Transport Metro',\n",
       " 'Transport Monorail',\n",
       " 'Transport Plane',\n",
       " 'Transport Ship',\n",
       " 'Transport Taxi',\n",
       " 'Transport Train',\n",
       " 'Transport Tram',\n",
       " 'Transport Trolleybus',\n",
       " 'Tree',\n",
       " 'Unique Building',\n",
       " 'Unique Factory',\n",
       " 'Varsity Sports',\n",
       " 'Vehicle',\n",
       " 'Water & Sewage',\n",
       " 'No tags']"
      ]
     },
     "execution_count": 89,
     "metadata": {},
     "output_type": "execute_result"
    }
   ],
   "source": [
    "tag_str"
   ]
  },
  {
   "cell_type": "code",
   "execution_count": 85,
   "metadata": {},
   "outputs": [],
   "source": [
    "for asset in assets_coll.find({}):\n",
    "    tags = asset.get('tags')\n",
    "    if tags != [] and tags != None and tags != ['No tags']:\n",
    "        asset_tags = []\n",
    "        for tag in tags:\n",
    "            asset_tags.append(tags_coll.find_one({'_id': tag})['tag'])\n",
    "        assets_coll.update_one({'_id': asset['_id']}, {'$set': {'tags': asset_tags}})\n",
    "    else:\n",
    "        assets_coll.update_one({'_id': asset['_id']}, {'$set': {'tags': ['No tags']}})\n",
    "        \n"
   ]
  },
  {
   "cell_type": "code",
   "execution_count": 9,
   "metadata": {},
   "outputs": [
    {
     "data": {
      "text/plain": [
       "<pymongo.results.InsertOneResult at 0x271860a1210>"
      ]
     },
     "execution_count": 9,
     "metadata": {},
     "output_type": "execute_result"
    }
   ],
   "source": [
    "tags_coll.insert_one({'tag': 'No tags'})"
   ]
  },
  {
   "cell_type": "code",
   "execution_count": 86,
   "metadata": {},
   "outputs": [
    {
     "name": "stdout",
     "output_type": "stream",
     "text": [
      "['No tags']\n",
      "['No tags']\n",
      "['No tags']\n",
      "['No tags']\n",
      "['No tags']\n",
      "['No tags']\n",
      "['No tags']\n",
      "['No tags']\n",
      "['No tags']\n",
      "['No tags']\n",
      "['No tags']\n",
      "['No tags']\n",
      "['No tags']\n",
      "['No tags']\n",
      "['No tags']\n",
      "['No tags']\n",
      "['No tags']\n",
      "['No tags']\n",
      "['No tags']\n",
      "['No tags']\n",
      "['No tags']\n",
      "['No tags']\n",
      "['No tags']\n",
      "['No tags']\n",
      "['No tags']\n",
      "['No tags']\n",
      "['No tags']\n",
      "['No tags']\n",
      "['No tags']\n",
      "['No tags']\n",
      "['No tags']\n",
      "['No tags']\n",
      "['No tags']\n",
      "['No tags']\n",
      "['No tags']\n",
      "['No tags']\n",
      "['No tags']\n",
      "['No tags']\n",
      "['No tags']\n",
      "['No tags']\n",
      "['No tags']\n",
      "['No tags']\n",
      "['No tags']\n",
      "['No tags']\n",
      "['No tags']\n",
      "['No tags']\n",
      "['No tags']\n",
      "['No tags']\n",
      "['No tags']\n",
      "['No tags']\n",
      "['No tags']\n",
      "['No tags']\n",
      "['No tags']\n",
      "['No tags']\n",
      "['No tags']\n",
      "['No tags']\n",
      "['No tags']\n",
      "['No tags']\n",
      "['No tags']\n",
      "['No tags']\n",
      "['No tags']\n",
      "['No tags']\n",
      "['No tags']\n",
      "['No tags']\n",
      "['No tags']\n",
      "['No tags']\n",
      "['No tags']\n",
      "['No tags']\n",
      "['No tags']\n",
      "['No tags']\n",
      "['No tags']\n",
      "['No tags']\n",
      "['No tags']\n",
      "['No tags']\n",
      "['No tags']\n",
      "['No tags']\n",
      "['No tags']\n",
      "['No tags']\n",
      "['No tags']\n",
      "['No tags']\n",
      "['No tags']\n",
      "['No tags']\n",
      "['No tags']\n",
      "['No tags']\n",
      "['No tags']\n",
      "['No tags']\n",
      "['No tags']\n",
      "['No tags']\n",
      "['No tags']\n",
      "['No tags']\n",
      "['No tags']\n",
      "['No tags']\n",
      "['No tags']\n",
      "['No tags']\n",
      "['No tags']\n",
      "['No tags']\n",
      "['No tags']\n",
      "['No tags']\n",
      "['No tags']\n",
      "['No tags']\n",
      "['No tags']\n",
      "['No tags']\n",
      "['No tags']\n",
      "['No tags']\n",
      "['No tags']\n",
      "['No tags']\n",
      "['No tags']\n",
      "['No tags']\n",
      "['No tags']\n",
      "['No tags']\n",
      "['No tags']\n",
      "['No tags']\n",
      "['No tags']\n",
      "['No tags']\n",
      "['No tags']\n",
      "['No tags']\n",
      "['No tags']\n",
      "['No tags']\n",
      "['No tags']\n",
      "['No tags']\n",
      "['No tags']\n",
      "['No tags']\n",
      "['No tags']\n",
      "['No tags']\n",
      "['No tags']\n",
      "['No tags']\n",
      "['No tags']\n",
      "['No tags']\n",
      "['No tags']\n",
      "['No tags']\n",
      "['No tags']\n",
      "['No tags']\n",
      "['No tags']\n",
      "['No tags']\n",
      "['No tags']\n",
      "['No tags']\n",
      "['No tags']\n",
      "['No tags']\n",
      "['No tags']\n",
      "['No tags']\n",
      "['No tags']\n",
      "['No tags']\n",
      "['No tags']\n",
      "['No tags']\n",
      "['No tags']\n",
      "['No tags']\n",
      "['No tags']\n",
      "['No tags']\n",
      "['No tags']\n",
      "['No tags']\n",
      "['No tags']\n",
      "['No tags']\n",
      "['No tags']\n",
      "['No tags']\n",
      "['No tags']\n",
      "['No tags']\n",
      "['No tags']\n",
      "['No tags']\n",
      "['No tags']\n",
      "['No tags']\n",
      "['No tags']\n",
      "['No tags']\n",
      "['No tags']\n",
      "['No tags']\n",
      "['No tags']\n",
      "['No tags']\n",
      "['No tags']\n",
      "['No tags']\n",
      "['No tags']\n",
      "['No tags']\n",
      "['No tags']\n",
      "['No tags']\n",
      "['No tags']\n",
      "['No tags']\n",
      "['No tags']\n",
      "['No tags']\n",
      "['No tags']\n",
      "['No tags']\n",
      "['No tags']\n",
      "['No tags']\n",
      "['No tags']\n",
      "['No tags']\n",
      "['No tags']\n",
      "['No tags']\n",
      "['No tags']\n",
      "['No tags']\n",
      "['No tags']\n",
      "['No tags']\n",
      "['No tags']\n",
      "['No tags']\n",
      "['No tags']\n",
      "['No tags']\n",
      "['No tags']\n",
      "['No tags']\n",
      "['No tags']\n",
      "['No tags']\n",
      "['No tags']\n",
      "['No tags']\n",
      "['No tags']\n",
      "['No tags']\n",
      "['No tags']\n",
      "['No tags']\n",
      "['No tags']\n",
      "['No tags']\n",
      "['No tags']\n",
      "['No tags']\n",
      "['No tags']\n",
      "['No tags']\n",
      "['No tags']\n",
      "['No tags']\n",
      "['No tags']\n",
      "['No tags']\n",
      "['No tags']\n",
      "['No tags']\n",
      "['No tags']\n",
      "['No tags']\n",
      "['No tags']\n",
      "['No tags']\n",
      "['No tags']\n",
      "['No tags']\n",
      "['No tags']\n",
      "['No tags']\n",
      "['No tags']\n",
      "['No tags']\n",
      "['No tags']\n",
      "['No tags']\n",
      "['No tags']\n",
      "['No tags']\n",
      "['No tags']\n",
      "['No tags']\n",
      "['No tags']\n",
      "['No tags']\n",
      "['No tags']\n",
      "['No tags']\n",
      "['No tags']\n",
      "['No tags']\n",
      "['No tags']\n",
      "['No tags']\n",
      "['No tags']\n",
      "['No tags']\n",
      "['No tags']\n",
      "['No tags']\n",
      "['No tags']\n",
      "['No tags']\n",
      "['No tags']\n",
      "['No tags']\n",
      "['No tags']\n",
      "['No tags']\n",
      "['No tags']\n",
      "['No tags']\n",
      "['No tags']\n",
      "['No tags']\n",
      "['No tags']\n",
      "['No tags']\n",
      "['No tags']\n",
      "['No tags']\n",
      "['No tags']\n",
      "['No tags']\n",
      "['No tags']\n",
      "['No tags']\n",
      "['No tags']\n",
      "['No tags']\n",
      "['No tags']\n",
      "['No tags']\n",
      "['No tags']\n",
      "['No tags']\n",
      "['No tags']\n",
      "['No tags']\n",
      "['No tags']\n",
      "['No tags']\n",
      "['No tags']\n",
      "['No tags']\n",
      "['No tags']\n",
      "['No tags']\n",
      "['No tags']\n",
      "['No tags']\n",
      "['No tags']\n",
      "['No tags']\n",
      "['No tags']\n",
      "['No tags']\n",
      "['No tags']\n",
      "['No tags']\n",
      "['No tags']\n",
      "['No tags']\n",
      "['No tags']\n",
      "['No tags']\n",
      "['No tags']\n",
      "['No tags']\n",
      "['No tags']\n",
      "['No tags']\n",
      "['No tags']\n",
      "['No tags']\n",
      "['No tags']\n",
      "['No tags']\n",
      "['No tags']\n",
      "['No tags']\n",
      "['No tags']\n",
      "['No tags']\n",
      "['No tags']\n",
      "['No tags']\n",
      "['No tags']\n",
      "['No tags']\n",
      "['No tags']\n",
      "['No tags']\n",
      "['No tags']\n",
      "['No tags']\n",
      "['No tags']\n",
      "['No tags']\n",
      "['No tags']\n",
      "['No tags']\n",
      "['No tags']\n",
      "['No tags']\n",
      "['No tags']\n",
      "['No tags']\n",
      "['No tags']\n",
      "['No tags']\n",
      "['No tags']\n",
      "['No tags']\n",
      "['No tags']\n",
      "['No tags']\n",
      "['No tags']\n",
      "['No tags']\n",
      "['No tags']\n",
      "['No tags']\n",
      "['No tags']\n",
      "['No tags']\n",
      "['No tags']\n",
      "['No tags']\n",
      "['No tags']\n",
      "['No tags']\n",
      "['No tags']\n",
      "['No tags']\n",
      "['No tags']\n",
      "['No tags']\n",
      "['No tags']\n",
      "['No tags']\n",
      "['No tags']\n",
      "['No tags']\n",
      "['No tags']\n",
      "['No tags']\n",
      "['No tags']\n",
      "['No tags']\n",
      "['No tags']\n",
      "['No tags']\n",
      "['No tags']\n",
      "['No tags']\n",
      "['No tags']\n",
      "['No tags']\n",
      "['No tags']\n",
      "['No tags']\n",
      "['No tags']\n",
      "['No tags']\n",
      "['No tags']\n",
      "['No tags']\n",
      "['No tags']\n",
      "['No tags']\n",
      "['No tags']\n",
      "['No tags']\n",
      "['No tags']\n",
      "['No tags']\n",
      "['No tags']\n",
      "['No tags']\n",
      "['No tags']\n",
      "['No tags']\n",
      "['No tags']\n",
      "['No tags']\n",
      "['No tags']\n",
      "['No tags']\n",
      "['No tags']\n",
      "['No tags']\n",
      "['No tags']\n",
      "['No tags']\n",
      "['No tags']\n",
      "['No tags']\n",
      "['No tags']\n",
      "['No tags']\n",
      "['No tags']\n",
      "['No tags']\n",
      "['No tags']\n",
      "['No tags']\n",
      "['No tags']\n",
      "['No tags']\n",
      "['Building', 'Water & Sewage']\n",
      "['Building', 'Residential', 'Residential Low']\n",
      "['Building', 'Commercial', 'Commercial Low']\n",
      "['Vehicle']\n",
      "['Prop']\n",
      "['Prop']\n",
      "['Tree']\n",
      "['Park']\n",
      "['Tree']\n",
      "['No tags']\n",
      "['Prop']\n",
      "['Prop']\n",
      "['Building', 'Unique Building']\n",
      "['Building', 'Unique Building']\n",
      "['Prop']\n",
      "['Road']\n",
      "['Prop']\n",
      "['Road']\n",
      "['Road']\n",
      "['Building', 'Transport', 'Transport Tram']\n",
      "['Road']\n",
      "['Road']\n",
      "['Building', 'Education']\n",
      "['Building', 'Unique Building']\n",
      "['Building', 'Commercial', 'Commercial Leisure']\n",
      "['Building', 'Unique Building']\n",
      "['Building', 'Commercial', 'Commercial High']\n",
      "['Prop']\n",
      "['Road']\n",
      "['Building', 'Healthcare']\n",
      "['Building', 'Healthcare']\n",
      "['Building', 'Transport', 'Transport Train']\n",
      "['Building', 'Unique Building']\n",
      "['Building', 'Transport', 'Transport Train']\n",
      "['Prop']\n",
      "['Building', 'Education']\n",
      "['No tags']\n",
      "['Building', 'Unique Building']\n",
      "['Building', 'Unique Building']\n",
      "['Building', 'Unique Building']\n",
      "['Prop']\n",
      "['Prop']\n",
      "['Road', 'Transport', 'Transport Metro']\n",
      "['Building', 'Office']\n",
      "['Tree']\n",
      "['Park']\n",
      "['Park']\n",
      "['Park']\n",
      "['Park']\n",
      "['Park']\n",
      "['Park']\n",
      "['Park']\n",
      "['Park']\n",
      "['Park']\n",
      "['Park']\n",
      "['Park']\n",
      "['Park']\n",
      "['Building', 'Transport', 'Transport Train']\n",
      "['Building', 'Transport', 'Transport Train']\n",
      "['Prop']\n",
      "['No tags']\n",
      "['Park']\n",
      "['Park']\n",
      "['Park']\n",
      "['Park']\n",
      "['Prop']\n",
      "['Building', 'Office']\n",
      "['Transport', 'Road']\n",
      "['Building', 'Transport', 'Transport Bus']\n",
      "['Building', 'Residential', 'Residential Low']\n",
      "['Transport', 'Transport Monorail', 'Road']\n",
      "['Building', 'Commercial', 'Commercial Low']\n",
      "['Prop']\n",
      "['Building', 'Transport', 'Transport Train']\n",
      "['Building', 'Unique Building']\n",
      "['Tree']\n",
      "['Building', 'Unique Building']\n",
      "['Building', 'Unique Building']\n",
      "['Vehicle']\n",
      "['Road']\n",
      "['Road']\n",
      "['Building', 'Unique Building']\n",
      "['Building', 'Unique Building']\n",
      "['Building', 'Residential', 'Residential Low']\n",
      "['Building', 'Residential', 'Residential Low']\n",
      "['Building', 'Residential', 'Residential Low']\n",
      "['Building', 'Residential', 'Residential Low']\n",
      "['Building', 'Residential', 'Residential Low']\n",
      "['Building', 'Residential', 'Residential Low']\n",
      "['Building', 'Residential', 'Residential Low']\n",
      "['Building', 'Industrial', 'Industrial Generic']\n",
      "['Building', 'Transport', 'Transport Bus']\n",
      "['Tree']\n",
      "['Vehicle']\n",
      "['Tree']\n",
      "['Building', 'Office']\n",
      "['Park']\n",
      "['Building', 'Electricity']\n",
      "['Park']\n",
      "['Prop']\n",
      "['Prop']\n",
      "['Building', 'Healthcare']\n",
      "['Prop']\n",
      "['Building', 'Police Department']\n",
      "['No tags']\n",
      "['Park']\n",
      "['Park']\n",
      "['Park']\n",
      "['Park']\n",
      "['Building', 'Industrial', 'Industrial Generic']\n",
      "['Road']\n",
      "['Prop']\n",
      "['Prop']\n",
      "['Building', 'Residential', 'Residential High']\n",
      "['Building', 'Commercial', 'Commercial High']\n",
      "['Building', 'Unique Building']\n",
      "['Building', 'Unique Building']\n",
      "['Building', 'Unique Building']\n",
      "['Prop']\n",
      "['Park']\n",
      "['Building', 'Unique Building']\n",
      "['Tree']\n",
      "['Road']\n",
      "['Building', 'Commercial', 'Commercial High']\n",
      "['Building', 'Residential', 'Residential High']\n",
      "['Building', 'Residential', 'Residential High']\n",
      "['Building', 'Residential', 'Residential High']\n",
      "['Building', 'Residential', 'Residential High']\n",
      "['Building', 'Commercial', 'Commercial High']\n",
      "['Building', 'Police Department']\n",
      "['Building', 'Residential', 'Residential High']\n",
      "['Building', 'Residential', 'Residential High']\n",
      "['Building', 'Residential', 'Residential High']\n",
      "['Building', 'Residential', 'Residential High']\n",
      "['Building', 'Residential', 'Residential High']\n",
      "['Building', 'Residential', 'Residential High']\n",
      "['Building', 'Residential', 'Residential High']\n",
      "['Building', 'Residential', 'Residential High']\n",
      "['Building', 'Residential', 'Residential High']\n",
      "['Building', 'Residential', 'Residential High']\n",
      "['Building', 'Residential', 'Residential High']\n",
      "['Building', 'Residential', 'Residential High']\n",
      "['Building', 'Residential', 'Residential High']\n",
      "['Building', 'Residential', 'Residential High']\n",
      "['Building', 'Residential', 'Residential High']\n",
      "['Building', 'Residential', 'Residential High']\n",
      "['Building', 'Residential', 'Residential High']\n",
      "['Building', 'Residential', 'Residential High']\n",
      "['Building', 'Residential', 'Residential High']\n",
      "['Park']\n",
      "['Road']\n",
      "['Road']\n",
      "['Road']\n",
      "['Building']\n",
      "['Building']\n",
      "['Road']\n",
      "['Prop']\n",
      "['Building', 'Unique Building']\n",
      "['Building', 'Unique Building']\n",
      "['Building', 'Unique Building']\n",
      "['Building', 'Unique Building']\n",
      "['Intersection']\n",
      "['Tree']\n",
      "['Prop']\n",
      "['Building', 'Education']\n",
      "['Vehicle']\n",
      "['Building', 'Police Department']\n",
      "['Building', 'Police Department']\n",
      "['Building', 'Unique Building']\n",
      "['Building', 'Police Department']\n",
      "['Road']\n",
      "['Building', 'Transport']\n",
      "['Tree']\n",
      "['Building', 'Unique Building']\n",
      "['Park']\n",
      "['Building', 'Residential', 'Residential High']\n",
      "['Building', 'Office']\n",
      "['Building', 'Police Department']\n",
      "['Building', 'Office']\n",
      "['Building', 'Unique Building']\n",
      "['Transport', 'Transport Train', 'Road']\n",
      "['Transport', 'Transport Train', 'Road']\n",
      "['Prop']\n",
      "['Prop']\n",
      "['Transport', 'Transport Train', 'Road']\n",
      "['Transport', 'Transport Train', 'Road']\n",
      "['Transport', 'Transport Train', 'Road']\n",
      "['Prop']\n",
      "['Transport', 'Transport Train', 'Road']\n",
      "['Transport', 'Transport Train', 'Road']\n",
      "['Prop']\n",
      "['Transport', 'Transport Train', 'Road']\n",
      "['Road', 'Transport', 'Transport Train']\n",
      "['Road', 'Transport', 'Transport Train']\n",
      "['Transport', 'Transport Train', 'Road']\n",
      "['Prop']\n",
      "['Transport', 'Transport Train', 'Road']\n",
      "['Transport', 'Transport Train', 'Road']\n",
      "['Transport', 'Transport Train', 'Road']\n",
      "['Transport', 'Transport Train', 'Road']\n",
      "['Transport', 'Transport Train', 'Road']\n",
      "['Prop']\n",
      "['Road']\n",
      "['Prop']\n",
      "['Prop']\n",
      "['Building', 'Unique Building']\n",
      "['Prop']\n",
      "['Prop']\n",
      "['Building', 'Unique Building']\n",
      "['Building', 'Police Department']\n",
      "['Building', 'Unique Building']\n",
      "['Building', 'Police Department']\n",
      "['No tags']\n",
      "['Tree']\n",
      "['Building', 'Unique Building']\n",
      "['Prop']\n",
      "['No tags']\n",
      "['Building', 'Unique Building']\n",
      "['Building', 'Residential', 'Residential High']\n",
      "['Prop']\n",
      "['Prop']\n",
      "['Intersection']\n",
      "['Tree']\n",
      "['Road']\n",
      "['Road']\n",
      "['Road']\n",
      "['Road']\n",
      "['Building', 'Unique Building']\n",
      "['Building', 'Unique Building']\n",
      "['Building', 'Unique Building']\n",
      "['Prop']\n",
      "['Prop']\n",
      "['Prop']\n",
      "['Prop']\n",
      "['Building', 'Unique Building']\n",
      "['Building', 'Industry Area']\n",
      "['Building', 'Unique Building']\n",
      "['Prop']\n",
      "['Road']\n",
      "['Building', 'Residential', 'Residential High']\n",
      "['Building', 'Commercial', 'Commercial High']\n",
      "['Building', 'Commercial', 'Commercial High']\n",
      "['Building', 'Commercial', 'Commercial High']\n",
      "['Building', 'Commercial', 'Commercial High']\n",
      "['Building', 'Commercial', 'Commercial High']\n",
      "['Building', 'Commercial', 'Commercial High']\n",
      "['Building', 'Transport', 'Transport Bus']\n",
      "['Building', 'Transport', 'Transport Bus']\n",
      "['No tags']\n",
      "['Building', 'Transport', 'Transport Tram']\n",
      "['Building', 'Unique Building']\n",
      "['Building', 'Unique Building']\n",
      "['Building', 'Unique Building']\n",
      "['Building', 'Education']\n",
      "['No tags']\n",
      "['No tags']\n",
      "['Building', 'Unique Building']\n",
      "['Prop']\n",
      "['Prop']\n",
      "['Prop']\n",
      "['Building', 'Commercial', 'Commercial High']\n",
      "['Prop']\n",
      "['Building', 'Unique Building']\n",
      "['Transport', 'Transport Train', 'Road']\n",
      "['Prop']\n",
      "['Prop']\n",
      "['Prop']\n",
      "['No tags']\n",
      "['No tags']\n",
      "['Prop']\n",
      "['No tags']\n",
      "['Building', 'Commercial', 'Commercial High']\n",
      "['Building', 'Transport', 'Transport Plane']\n",
      "['Building', 'Unique Building']\n",
      "['Vehicle']\n",
      "['Prop']\n",
      "['Vehicle']\n",
      "['Prop']\n",
      "['Road']\n",
      "['Road']\n",
      "['Building', 'Unique Building']\n",
      "['Building', 'Unique Building']\n",
      "['Prop']\n",
      "['Tree']\n",
      "['Building', 'Residential', 'Residential High']\n",
      "['Prop']\n",
      "['Prop']\n",
      "['Prop']\n",
      "['Prop']\n",
      "['Prop']\n",
      "['Building', 'Commercial', 'Commercial High']\n",
      "['Vehicle']\n",
      "['Building', 'Transport', 'Transport Metro']\n",
      "['Building', 'Unique Building']\n",
      "['Building', 'Deathcare']\n",
      "['No tags']\n",
      "['Vehicle']\n",
      "['Building', 'Transport', 'Transport Train']\n",
      "['Prop']\n",
      "['Building', 'Unique Building']\n",
      "['No tags']\n",
      "['Road', 'Transport', 'Transport Metro']\n",
      "['Prop']\n",
      "['Tree']\n",
      "['Prop']\n",
      "['Building', 'Unique Building']\n",
      "['Building', 'Unique Building']\n",
      "['Building', 'Education']\n",
      "['Building', 'Unique Building']\n",
      "['Park']\n",
      "['Park']\n",
      "['No tags']\n",
      "['Building', 'Unique Building']\n",
      "['Prop']\n",
      "['Building', 'Education']\n",
      "['Building', 'Unique Building']\n",
      "['Building', 'Unique Building']\n",
      "['Building', 'Unique Building']\n",
      "['Building', 'Unique Building']\n",
      "['Prop']\n",
      "['Road']\n",
      "['Road']\n",
      "['Road']\n",
      "['Road']\n",
      "['Road']\n",
      "['No tags']\n",
      "['Building']\n",
      "['Building', 'Transport', 'Transport Train']\n",
      "['Building', 'Transport', 'Transport Train']\n",
      "['Tree']\n",
      "['Building', 'Unique Building']\n",
      "['Prop']\n",
      "['Prop']\n",
      "['Prop']\n",
      "['Prop']\n",
      "['Prop']\n",
      "['Vehicle']\n",
      "['Vehicle']\n",
      "['Building', 'Unique Building']\n",
      "['Electricity', 'Road']\n",
      "['Building', 'Unique Building']\n",
      "['Building', 'Commercial', 'Commercial Low']\n",
      "['Building', 'Unique Building']\n",
      "['Building', 'Commercial', 'Commercial Low']\n",
      "['Building', 'Commercial', 'Commercial Low']\n",
      "['Building', 'Commercial', 'Commercial Low']\n",
      "['Prop']\n",
      "['Prop']\n",
      "['Prop']\n",
      "['Road']\n",
      "['Building', 'Education']\n",
      "['Building', 'Transport', 'Transport Train']\n",
      "['Building', 'Residential', 'Residential High']\n",
      "['Building', 'Unique Building']\n",
      "['Road']\n",
      "['Building', 'Unique Building']\n",
      "['Road']\n",
      "['Road']\n",
      "['Prop']\n",
      "['Prop']\n",
      "['Prop']\n",
      "['Prop']\n",
      "['Prop']\n",
      "['Prop']\n",
      "['Prop']\n",
      "['Prop']\n",
      "['Building', 'Unique Building']\n",
      "['Building', 'Unique Building']\n",
      "['Building', 'Water & Sewage']\n",
      "['Building', 'Unique Building']\n",
      "['Building', 'Unique Building']\n",
      "['Building', 'Education']\n",
      "['Prop']\n",
      "['Building', 'Unique Building']\n",
      "['Building', 'Unique Building']\n",
      "['Building', 'Unique Building']\n",
      "['Building', 'Industry Area']\n",
      "['Prop']\n",
      "['Prop']\n",
      "['Tree']\n",
      "['Building', 'Unique Building']\n",
      "['Building', 'Transport', 'Transport Ship']\n",
      "['Building', 'Office']\n",
      "['Tree']\n",
      "['Prop']\n",
      "['Building', 'Commercial', 'Commercial High']\n",
      "['Building', 'Office']\n",
      "['Prop']\n",
      "['Tree']\n",
      "['Building', 'Unique Building']\n",
      "['Building', 'Education']\n",
      "['Tree']\n",
      "['Building', 'Residential', 'Residential Low']\n",
      "['Prop']\n",
      "['Building', 'Unique Building']\n",
      "['Road']\n",
      "['Prop']\n",
      "['Building', 'Unique Building']\n",
      "['Road']\n",
      "['Park']\n",
      "['Park']\n",
      "['Road']\n",
      "['Prop']\n",
      "['Prop']\n",
      "['Prop']\n",
      "['Building', 'Residential', 'Residential High']\n",
      "['Prop']\n",
      "['Park']\n",
      "['Building', 'Education']\n",
      "['Park']\n",
      "['Tree']\n",
      "['Vehicle']\n",
      "['Prop']\n",
      "['Prop']\n",
      "['Building', 'Unique Building']\n",
      "['Park']\n",
      "['Building', 'Transport', 'Transport Train']\n",
      "['Transport', 'Transport Train', 'Road']\n",
      "['Building', 'Unique Building']\n",
      "['Park']\n",
      "['Building', 'Unique Building']\n",
      "['No tags']\n",
      "['Park']\n",
      "['Prop']\n",
      "['Park']\n",
      "['Park']\n",
      "['Building', 'Transport', 'Transport Train']\n",
      "['Park']\n",
      "['No tags']\n",
      "['Mod']\n",
      "['Mod']\n",
      "['Mod']\n",
      "['Mod']\n",
      "['Mod']\n",
      "['No tags']\n",
      "['Mod']\n",
      "['Mod']\n",
      "['No tags']\n",
      "['No tags']\n",
      "['No tags']\n",
      "['Mod']\n",
      "['No tags']\n",
      "['No tags']\n",
      "['No tags']\n",
      "['Mod']\n",
      "['No tags']\n",
      "['Mod']\n",
      "['No tags']\n",
      "['Mod']\n",
      "['No tags']\n",
      "['Mod']\n",
      "['Mod']\n",
      "['Mod']\n",
      "['No tags']\n",
      "['No tags']\n",
      "['No tags']\n",
      "['Mod']\n",
      "['No tags']\n",
      "['No tags']\n",
      "['No tags']\n",
      "['No tags']\n",
      "['Mod']\n",
      "['No tags']\n",
      "['No tags']\n",
      "['Mod']\n",
      "['No tags']\n",
      "['Mod']\n",
      "['Mod']\n",
      "['Mod']\n",
      "['Mod']\n",
      "['Mod']\n",
      "['No tags']\n",
      "['Mod']\n",
      "['Mod']\n",
      "['Mod']\n",
      "['Mod']\n",
      "['Mod']\n",
      "['No tags']\n",
      "['Mod']\n"
     ]
    }
   ],
   "source": [
    "for asset in assets_coll.find({}):\n",
    "    print(asset['tags'])"
   ]
  },
  {
   "attachments": {},
   "cell_type": "markdown",
   "metadata": {},
   "source": [
    "# Misc"
   ]
  },
  {
   "cell_type": "code",
   "execution_count": 2,
   "metadata": {},
   "outputs": [],
   "source": [
    "from SWA_api import SWAAuthor"
   ]
  },
  {
   "cell_type": "code",
   "execution_count": 13,
   "metadata": {},
   "outputs": [],
   "source": [
    "a = SWAAuthor('1', 'a', 'b', 'c', 'd', 'e')"
   ]
  },
  {
   "cell_type": "code",
   "execution_count": 14,
   "metadata": {},
   "outputs": [
    {
     "data": {
      "text/plain": [
       "{'steamID64': 1,\n",
       " 'steamID': 'a',\n",
       " 'avatarIcon': 'b',\n",
       " 'avatarMedium': 'c',\n",
       " 'avatarFull': 'd',\n",
       " 'customURL': 'e'}"
      ]
     },
     "execution_count": 14,
     "metadata": {},
     "output_type": "execute_result"
    }
   ],
   "source": [
    "a.__dict__"
   ]
  },
  {
   "cell_type": "code",
   "execution_count": null,
   "metadata": {},
   "outputs": [],
   "source": [
    "import os\n",
    "\n",
    "path = \"E:/Games/Cities Skylines/Files/Maps/1285201733\"\n",
    "data = {}\n",
    "files = os.listdir(path)\n",
    "for file in files:\n",
    "    full_path = os.path.join(path, file)\n",
    "    data.update({file: os.stat(full_path).st_size})"
   ]
  },
  {
   "cell_type": "code",
   "execution_count": null,
   "metadata": {},
   "outputs": [],
   "source": [
    "data"
   ]
  },
  {
   "cell_type": "code",
   "execution_count": 7,
   "metadata": {},
   "outputs": [],
   "source": [
    "class A:\n",
    "    def __init__(self, therd):\n",
    "        self.first = 'first'\n",
    "        self.second = 2\n",
    "        self.therd = therd\n",
    "\n",
    "    def to_dict(self):\n",
    "        return self.__dict__\n",
    "\n",
    "class B:\n",
    "    def __init__(self):\n",
    "        self.fourth = 'fourth'"
   ]
  },
  {
   "cell_type": "code",
   "execution_count": 8,
   "metadata": {},
   "outputs": [],
   "source": [
    "b = B()\n",
    "a = A(b)"
   ]
  },
  {
   "cell_type": "code",
   "execution_count": 13,
   "metadata": {},
   "outputs": [
    {
     "data": {
      "text/plain": [
       "'<__main__.A object at 0x000001C3C3FE9690>'"
      ]
     },
     "execution_count": 13,
     "metadata": {},
     "output_type": "execute_result"
    }
   ],
   "source": []
  },
  {
   "attachments": {},
   "cell_type": "markdown",
   "metadata": {},
   "source": [
    "# Steam API"
   ]
  },
  {
   "cell_type": "code",
   "execution_count": null,
   "metadata": {},
   "outputs": [],
   "source": [
    "import steam.webapi as api\n",
    "# import steam.steamid as steamid\n",
    "import requests\n"
   ]
  },
  {
   "cell_type": "code",
   "execution_count": null,
   "metadata": {},
   "outputs": [],
   "source": [
    "webapi = api.WebAPI(token)"
   ]
  },
  {
   "cell_type": "code",
   "execution_count": null,
   "metadata": {},
   "outputs": [],
   "source": [
    "import base64"
   ]
  },
  {
   "cell_type": "code",
   "execution_count": null,
   "metadata": {},
   "outputs": [],
   "source": [
    "base64."
   ]
  },
  {
   "cell_type": "code",
   "execution_count": null,
   "metadata": {},
   "outputs": [],
   "source": [
    "import requests\n",
    "\n",
    "STEAM_API_KEY = token\n",
    "\n",
    "def get_user_favorites():\n",
    "    url = f'https://partner.steam-api.com/ISteamPublishedItemSearch/RankedByPublicationOrder/v1/?key={STEAM_API_KEY}&steamid=333668425&appid=255710&startidx=0&count=10&tagcount=0&usertagcount=0'\n",
    "    response = requests.post(url)\n",
    "    # if response.status_code == 200:\n",
    "    #     data = response.json()\n",
    "    #     if 'response' in data and 'publishedfiledetails' in data['response']:\n",
    "    #         return data['response']['publishedfiledetails'][0]\n",
    "    return response\n",
    "\n",
    "result = get_user_favorites()\n",
    "result.text"
   ]
  },
  {
   "cell_type": "code",
   "execution_count": null,
   "metadata": {},
   "outputs": [],
   "source": [
    "params = {\n",
    "    'key': token,\n",
    "    'appid': 255710,\n",
    "    'steamid': 333668425,\n",
    "    'startidx': 0,\n",
    "    'count': 2,\n",
    "    'tagcount': 0,\n",
    "    'usertagcount': 0\n",
    "}"
   ]
  },
  {
   "cell_type": "code",
   "execution_count": null,
   "metadata": {},
   "outputs": [],
   "source": [
    "import steam.webauth as wa\n"
   ]
  },
  {
   "cell_type": "code",
   "execution_count": null,
   "metadata": {},
   "outputs": [],
   "source": [
    "user = wa.WebAuth('antydemidov')"
   ]
  },
  {
   "cell_type": "code",
   "execution_count": null,
   "metadata": {},
   "outputs": [],
   "source": [
    "params = {\n",
    "    'key': token,\n",
    "    'appid': 255710,\n",
    "    'steamid': 333668425,\n",
    "    'startidx': 0,\n",
    "    'count': 10,\n",
    "    'tagcount': 0,\n",
    "    'usertagcount': 0\n",
    "}\n",
    "req = requests.post('https://partner.steam-api.com/ISteamPublishedItemSearch/RankedByPublicationOrder/v1/?key={token}', params=params)\n",
    "req.text"
   ]
  },
  {
   "cell_type": "code",
   "execution_count": null,
   "metadata": {},
   "outputs": [],
   "source": [
    "user.session.get('https://store.steampowered.com/account/history/')"
   ]
  },
  {
   "cell_type": "code",
   "execution_count": null,
   "metadata": {},
   "outputs": [],
   "source": [
    "from steam.webapi import WebAPI"
   ]
  },
  {
   "cell_type": "code",
   "execution_count": null,
   "metadata": {},
   "outputs": [],
   "source": [
    "api = WebAPI().interfaces"
   ]
  },
  {
   "cell_type": "code",
   "execution_count": null,
   "metadata": {},
   "outputs": [],
   "source": [
    "import requests as rq"
   ]
  },
  {
   "cell_type": "code",
   "execution_count": null,
   "metadata": {},
   "outputs": [],
   "source": [
    "data = {\n",
    "    'steamid': 333668425,\n",
    "    'appid': 255710\n",
    "}\n",
    "res = rq.post('https://partner.steam-api.com/ISteamRemoteStorage/EnumerateUserSubscribedFiles/v1/', data=data)"
   ]
  },
  {
   "cell_type": "code",
   "execution_count": null,
   "metadata": {},
   "outputs": [],
   "source": [
    "res.text"
   ]
  },
  {
   "cell_type": "code",
   "execution_count": null,
   "metadata": {},
   "outputs": [],
   "source": [
    "res = user.session.get('https://steamcommunity.com/id/antydemidov/myworkshopfiles/?appid=255710&sort=score&browsefilter=myfavorites&view=imagewall')"
   ]
  },
  {
   "cell_type": "code",
   "execution_count": null,
   "metadata": {},
   "outputs": [],
   "source": [
    "res.text"
   ]
  },
  {
   "attachments": {},
   "cell_type": "markdown",
   "metadata": {},
   "source": [
    "# Optimization"
   ]
  },
  {
   "cell_type": "code",
   "execution_count": null,
   "metadata": {},
   "outputs": [],
   "source": [
    "from connection import client, settings"
   ]
  },
  {
   "cell_type": "code",
   "execution_count": null,
   "metadata": {},
   "outputs": [],
   "source": [
    "assets_coll = client.get_database(settings.database_name).get_collection('assets')"
   ]
  },
  {
   "cell_type": "code",
   "execution_count": null,
   "metadata": {},
   "outputs": [],
   "source": [
    "cursor = assets_coll.find({})"
   ]
  },
  {
   "cell_type": "code",
   "execution_count": null,
   "metadata": {},
   "outputs": [],
   "source": [
    "cursor.next()"
   ]
  },
  {
   "attachments": {},
   "cell_type": "markdown",
   "metadata": {},
   "source": [
    "# Other"
   ]
  },
  {
   "cell_type": "code",
   "execution_count": null,
   "metadata": {},
   "outputs": [],
   "source": [
    "import json\n",
    "import os\n",
    "import re\n",
    "from datetime import datetime\n",
    "from typing import Literal\n",
    "from zipfile import ZipFile\n",
    "\n",
    "import requests as rq\n",
    "from bs4 import BeautifulSoup as bs\n",
    "from decouple import config\n",
    "\n",
    "# Carefully! There are handmade modules.\n",
    "from connection import Connection\n",
    "from results import CommonResult\n",
    "from settings import SWASettings\n",
    "from SWA_api import SWAObject, Asset, dAsset\n",
    "\n",
    "settings = SWASettings().load().validate()\n",
    "db = Connection(settings.database_name)\n",
    "tags_coll, assets_coll = db.get_coll('tags'), db.get_coll('assets')"
   ]
  },
  {
   "cell_type": "code",
   "execution_count": null,
   "metadata": {},
   "outputs": [],
   "source": [
    "from bson import DBRef"
   ]
  },
  {
   "cell_type": "code",
   "execution_count": null,
   "metadata": {},
   "outputs": [],
   "source": [
    "ref = DBRef(tags_coll.name, 1, db.db_name)"
   ]
  },
  {
   "cell_type": "code",
   "execution_count": 20,
   "metadata": {},
   "outputs": [],
   "source": [
    "import requests as rq\n",
    "\n",
    "req = rq.post('https://api.steampowered.com/ISteamRemoteStorage/GetPublishedFileDetails/v1', data={'itemcount': 1, 'publishedfileids[0]': 428345723})"
   ]
  },
  {
   "cell_type": "code",
   "execution_count": 28,
   "metadata": {},
   "outputs": [
    {
     "data": {
      "text/plain": [
       "{'response': {'result': 1,\n",
       "  'resultcount': 1,\n",
       "  'publishedfiledetails': [{'publishedfileid': '428345723',\n",
       "    'result': 1,\n",
       "    'creator': '76561197997794199',\n",
       "    'creator_app_id': 255710,\n",
       "    'consumer_app_id': 255710,\n",
       "    'filename': '',\n",
       "    'file_size': 5196417,\n",
       "    'file_url': '',\n",
       "    'hcontent_file': '935475786793551097',\n",
       "    'preview_url': 'https://steamuserimages-a.akamaihd.net/ugc/531765103959869845/8AB7343E8AED8EB8DB559D5C593ECEA39427568F/',\n",
       "    'hcontent_preview': '531765103959869845',\n",
       "    'title': 'Rotterdam - Zuid-Holland, NL',\n",
       "    'description': \"[h1]Real-World Map: Rotterdam-Rijnmond & Delft - Zuid-Holland, Netherlands[/h1]\\r\\n\\r\\nThe largest port of Europe and the home to many architectural landmarks, this is my map of the region of [url=http://en.wikipedia.org/wiki/Rotterdam]Rotterdam[/url]. The city lies at the mouth of the Rijn river, also known as the Rijnmond, and has a long harbor district called Europoort. The port is very important for nearly all the mainland of Europe, and especially Germany. The city is famous for the football club Feyenoord and its iconic stadium De Kuip, the Cube Houses, the absolutely gorgeous [url=http://en.wikipedia.org/wiki/Witte_Huis]Witte Huis[/url] (the first high-rise in Europe), the Euromast and, more recently, for its psychedelic Markthal. During the Second World War, the downtown area was obliterated by Nazi bombers, destroying most of the medieval centre and an important part of Dutch cultural heritage. One of the consequences was that after the war, during the rebuilding, there was room for experimentation. Which led to some creative designs and architecture. For example, in 1953 the city opened the first car-free shopping street called De Lijnbaan. Its design and succes served as an example for cities around the world.\\r\\n\\r\\n[b]Other Cities[/b]\\r\\nAside from Rotterdam, also within the borders of the map is the historical city of [url=http://en.wikipedia.org/wiki/Delft]Delft[/url]. It is home to the renowned Technical University and has a special bond with Dutch history and the Royal family. Our 'father of the fatherland' William of Orange was assassinated and buried in Delft, his hometown and the headquarters of the Dutch Rebellion at that time.\\r\\n\\r\\nTwo other interesting cities are Hellevoetsluis and [url=http://en.wikipedia.org/wiki/Brielle#/media/File:Brielle_vesting_20050518.jpg]Brielle[/url], which are called [i]'vestingsteden'[/i] (fortified cities) because of their remarkable moat and defence structures. They can be found in the south-western part of the map.\\r\\n\\r\\nFinally, the Westland region, which is known for it's immense amount of [i]'glastuinbouw'[/i] (horticulture in greenhouses) which is used predominantly to grow flowers. It is also home to the worlds largest flower auction hall, called FloraHolland. I'm keeping my fingers crossed for a tulip field and greenhouses mod. The beach to the west is very popular with German tourists.\\r\\n\\r\\n[b]Roads[/b]\\r\\nI've added the main highways (A15, A20, A29 & E19), and a road (N57) in the direction of the Haringvlietdam, a part of the Delta Works. Since there are no tunnels yet, I've made the Botlektunnel into a bridge. Which you could easily upgrade to a tunnel once the next big update is out. I've used the standard intersections from the game. I saw that there were some of them in the workshop, but I thought it would be more fun to recreate them yourself. There is just one intersection that falls outside of the map area, which is Knooppunt Ridderkerk in the east. I tried to get it within the map limits, but it looked strange. If you really want to change it, you can always use the editor. I've tested the highway and they all work fine. I tried to be considerate with the entry points of the highways into the playing area, for if you want to change it all.\\r\\n\\r\\n[b]Water[/b]\\r\\nThis was the great obstacle in designing this map, since the area has a ton of waterways. There are too many to list them all. There are plenty of lakes and canals, which you can use for water pumps. I tried to recreate the port district as realistic as possible. However, as far as I know, the current at the mouth of the river is not strong enough to push all sewage out, so it is not adviced to use the main river for very large scale dumping of sewage. Fortunately, there is an actual real-world water filtration location on the map, just above Oud-Beijerland, called de Beerenplaat. I've set the water level lower so it should be safe to dump sewage in there. If it should overflow, water will be carried southward, away from the port.\\r\\n\\r\\n[b]Tips for playing:[/b]\\r\\nYou'll start in the region of Vlaardingen, in the centre of the map. From here it should be possible to get 9 tiles for whichever direction you'd like to go. I've added a few tiny indicators in the form of trees for the locations of Delft University, De Kuip and the Markthal.\\r\\n\\r\\nThe scale of the map is about it's largest, therefore some of the proportions of the regions might seem a little bit strange. However, this was necessary to provide a functional harbor area. The canals and rivers should work fine, waterflow is stable. I've tested many parts of the port and did not experience any problems. I do advice not to put too many industrial ports close to eachother, particularly in Rotterdam in the east of the map. This is because the river there is at it's absolute narrowest. It might cause jams.\\r\\n\\r\\n[b]Suggested Mods:[/b]\\r\\n[url=http://steamcommunity.com/sharedfiles/filedetails/?id=413962398&searchtext=markthal]Markthal[/url], by Bonzodoggie\\r\\n[url=http://steamcommunity.com/sharedfiles/filedetails/?id=413106222&searchtext=rotterdam]De Kuip[/url], Stadion Feyenoord by Long Long\\r\\n\\r\\n[i]Some suggestions for mod makers:\\r\\n[url=http://en.wikipedia.org/wiki/Witte_Huis]Het Witte Huis[/url], [url=http://en.wikipedia.org/wiki/Cube_house]De Kubuswoningen[/url], [url=http://en.wikipedia.org/wiki/Euromast]De Euromast[/url][/i]\\r\\n\\r\\nIf you experience any difficulties, or have suggestions, please leave a message in the comments. Have fun!\\r\\n\\r\\n\\r\\n[h1]My Maps[/h1]\\r\\n\\r\\n[u][b]Typical Dutch Landscapes[/b][/u]\\r\\n[url=http://steamcommunity.com/sharedfiles/filedetails/?id=447068379]Drebbeldam (European)[/url]\\r\\n[url=http://steamcommunity.com/sharedfiles/filedetails/?id=435992677]Mondriaansland[/url]\\r\\n[url=http://steamcommunity.com/sharedfiles/filedetails/?id=430240346]Pierdoniadiel[/url]\\r\\n\\r\\n[u][b]Coastal[/b][/u]\\r\\n[url=http://steamcommunity.com/sharedfiles/filedetails/?id=454629271]Kruyswick (European)[/url]\\r\\n[url=http://steamcommunity.com/sharedfiles/filedetails/?id=437540194]Baardmans Bay[/url]\\r\\n[url=http://steamcommunity.com/sharedfiles/filedetails/?id=548061106]Spykerbrook[/url]\\r\\n\\r\\n[u][b]Islands[/b][/u]\\r\\n[url=http://steamcommunity.com/sharedfiles/filedetails/?id=512843213]Ambrose Island (European)[/url]\\r\\n[url=http://steamcommunity.com/sharedfiles/filedetails/?id=439565708]Teyland[/url]\\r\\n[url=http://steamcommunity.com/sharedfiles/filedetails/?id=538730296]Great Flutland[/url]\\r\\n\\r\\n[i][url=http://steamcommunity.com/sharedfiles/filedetails/?id=426345821]View the Main Collection[/url][/i]\\r\\n[i][url=http://steamcommunity.com/sharedfiles/filedetails/?id=551058467]View the Classic Collection[/url][/i]\",\n",
       "    'time_created': 1429451631,\n",
       "    'time_updated': 1429451631,\n",
       "    'visibility': 0,\n",
       "    'banned': 0,\n",
       "    'ban_reason': '',\n",
       "    'subscriptions': 19683,\n",
       "    'favorited': 718,\n",
       "    'lifetime_subscriptions': 66446,\n",
       "    'lifetime_favorited': 936,\n",
       "    'views': 83274,\n",
       "    'tags': [{'tag': 'Map'}]}]}}"
      ]
     },
     "execution_count": 28,
     "metadata": {},
     "output_type": "execute_result"
    }
   ],
   "source": [
    "req.json()"
   ]
  },
  {
   "cell_type": "code",
   "execution_count": 31,
   "metadata": {},
   "outputs": [],
   "source": [
    "with rq.get('https://steamuserimages-a.akamaihd.net/ugc/531765103959869845/8AB7343E8AED8EB8DB559D5C593ECEA39427568F/') as req:\n",
    "    rh = req.headers"
   ]
  },
  {
   "cell_type": "code",
   "execution_count": 32,
   "metadata": {},
   "outputs": [
    {
     "data": {
      "text/plain": [
       "{'x-amz-id-2': 'nqP9mshwcxzWLcOO2VpLRqIX+czrfrBE+nAZ/irhzzblVIfX60wGl6HrMmbgTSeLwJ8s2w4TQUAfvjLMRpTAKQ==', 'x-amz-request-id': 'AW54WK6A56VXVPMT', 'Last-Modified': 'Sun, 19 Apr 2015 13:53:45 GMT', 'ETag': '\"d366163101afa30b911d8f59f140f958\"', 'x-amz-storage-class': 'ONEZONE_IA', 'Content-Disposition': \"inline; filename*=UTF-8''previewfile_428345723.png;\", 'Accept-Ranges': 'bytes', 'Content-Type': 'image/png', 'Server': 'AmazonS3', 'Content-Length': '637120', 'Cache-Control': 'max-age=604744', 'Expires': 'Sun, 30 Apr 2023 10:46:40 GMT', 'Date': 'Sun, 23 Apr 2023 10:47:36 GMT', 'Connection': 'keep-alive'}"
      ]
     },
     "execution_count": 32,
     "metadata": {},
     "output_type": "execute_result"
    }
   ],
   "source": [
    "rh"
   ]
  },
  {
   "cell_type": "code",
   "execution_count": 48,
   "metadata": {},
   "outputs": [
    {
     "data": {
      "text/plain": [
       "'application/zip'"
      ]
     },
     "execution_count": 48,
     "metadata": {},
     "output_type": "execute_result"
    }
   ],
   "source": [
    "'application/zip wdfsdfs'.split(' ')[0]"
   ]
  },
  {
   "cell_type": "code",
   "execution_count": 45,
   "metadata": {},
   "outputs": [
    {
     "data": {
      "text/plain": [
       "'png'"
      ]
     },
     "execution_count": 45,
     "metadata": {},
     "output_type": "execute_result"
    }
   ],
   "source": [
    "import re\n",
    "pattern = re.compile(r'.+/|\\s.+')\n",
    "pattern.sub('', 'image/png')"
   ]
  },
  {
   "cell_type": "code",
   "execution_count": null,
   "metadata": {},
   "outputs": [],
   "source": [
    "list(assets_coll.find({}, projection={'_id': False, 'steamid': True}, limit=10))"
   ]
  },
  {
   "cell_type": "code",
   "execution_count": null,
   "metadata": {},
   "outputs": [],
   "source": [
    "import shutil\n",
    "\n",
    "\n",
    "shutil.rmtree(settings.assets_path + '/' + '2306635803')"
   ]
  },
  {
   "cell_type": "code",
   "execution_count": null,
   "metadata": {},
   "outputs": [],
   "source": [
    "with ZipFile(settings.assets_path + '/' + str(2306635803) + '.zip', 'r') as zip:\n",
    "    zip.extractall(settings.assets_path)"
   ]
  },
  {
   "cell_type": "code",
   "execution_count": null,
   "metadata": {},
   "outputs": [],
   "source": [
    "assets_coll.update_one({'steamid': 2306635803}, {'$set': {'need_update': True}})"
   ]
  },
  {
   "cell_type": "code",
   "execution_count": null,
   "metadata": {},
   "outputs": [],
   "source": [
    "req.json()['response']['publishedfiledetails'][0]"
   ]
  },
  {
   "cell_type": "code",
   "execution_count": null,
   "metadata": {},
   "outputs": [],
   "source": [
    "ids_from_file = []\n",
    "with open('E:\\CODE\\Steam Workshop Automatic\\links.txt', 'r') as f:\n",
    "    for line in f.readlines():\n",
    "        ids_from_file.append(int(line))"
   ]
  },
  {
   "cell_type": "code",
   "execution_count": null,
   "metadata": {},
   "outputs": [],
   "source": [
    "print(list(assets_coll.find({'need_update': True})))"
   ]
  },
  {
   "cell_type": "code",
   "execution_count": null,
   "metadata": {},
   "outputs": [],
   "source": [
    "i = 0\n",
    "long = len(ids_from_file)\n",
    "for i in range(long):\n",
    "    if (ids_from_file[i] == 2079489980 or i <= 367):\n",
    "        pass\n",
    "    else:\n",
    "        asset = dAsset(ids_from_file[i])\n",
    "        asset.update()\n",
    "        print('\\r' + str(i+1) + ' from ' + str(long), end='')"
   ]
  },
  {
   "cell_type": "code",
   "execution_count": null,
   "metadata": {},
   "outputs": [],
   "source": [
    "data_steam = asset.get_stats_from_steam()\n",
    "data_db = asset.get_stats_from_db()"
   ]
  },
  {
   "cell_type": "code",
   "execution_count": null,
   "metadata": {},
   "outputs": [],
   "source": [
    "assets_coll.find_one_and_update()"
   ]
  },
  {
   "cell_type": "code",
   "execution_count": null,
   "metadata": {},
   "outputs": [],
   "source": [
    "for key, value in data_steam.items():\n",
    "    print(key, value)"
   ]
  },
  {
   "cell_type": "code",
   "execution_count": null,
   "metadata": {},
   "outputs": [],
   "source": [
    "for key, value in data_db.items():\n",
    "    print(key, value)"
   ]
  },
  {
   "cell_type": "code",
   "execution_count": null,
   "metadata": {},
   "outputs": [],
   "source": [
    "for item in data_steam.items():\n",
    "    data_db.items()"
   ]
  },
  {
   "cell_type": "code",
   "execution_count": null,
   "metadata": {},
   "outputs": [],
   "source": [
    "{'a': 123}.items() - {'a': 123, 'b': 123}.items()"
   ]
  },
  {
   "cell_type": "code",
   "execution_count": null,
   "metadata": {},
   "outputs": [],
   "source": [
    "settings = SWASettings()\n",
    "client = MongoClient(settings.uri)"
   ]
  },
  {
   "cell_type": "code",
   "execution_count": null,
   "metadata": {},
   "outputs": [],
   "source": [
    "aggr.next()"
   ]
  },
  {
   "cell_type": "code",
   "execution_count": null,
   "metadata": {},
   "outputs": [],
   "source": [
    "# assets_coll.delete_many({})"
   ]
  },
  {
   "cell_type": "code",
   "execution_count": null,
   "metadata": {},
   "outputs": [],
   "source": [
    "class Document():\n",
    "    def __init__(self, id: int, name: str, url: str, pic_url: str, original_update_date: datetime, my_update_date: datetime, size: int, path: str, ):\n",
    "        self.id = id\n",
    "        self.name = name\n",
    "        self.url = url\n",
    "        self.pic_url = pic_url\n",
    "        self.original_update_date = original_update_date\n",
    "        self.my_update_date = my_update_date\n",
    "        self.size = size\n",
    "        self.path = path\n",
    "\n",
    "class Author():\n",
    "    def __init__(self, id: int, name: str, url: str):\n",
    "        self.id = id\n",
    "        self.name = name\n",
    "        self.url = url\n",
    "\n",
    "\n",
    "class Asset(Document):\n",
    "    def __init__(self, id, name, description, url, pic_url, type: list, author_id: int):\n",
    "        super().__init__(id, name, description, url, pic_url)\n",
    "        self.type = type\n",
    "        self.author = Author(author_id)\n"
   ]
  }
 ],
 "metadata": {
  "kernelspec": {
   "display_name": "Python 3",
   "language": "python",
   "name": "python3"
  },
  "language_info": {
   "codemirror_mode": {
    "name": "ipython",
    "version": 3
   },
   "file_extension": ".py",
   "mimetype": "text/x-python",
   "name": "python",
   "nbconvert_exporter": "python",
   "pygments_lexer": "ipython3",
   "version": "3.11.3"
  },
  "orig_nbformat": 4,
  "vscode": {
   "interpreter": {
    "hash": "f5d60dadaadefcdc8ea71f1b2a7d61f81b140c3ffed39f6be6e95efa72c685b2"
   }
  }
 },
 "nbformat": 4,
 "nbformat_minor": 2
}
